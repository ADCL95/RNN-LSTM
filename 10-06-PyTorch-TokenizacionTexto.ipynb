{
  "cells": [
    {
      "cell_type": "markdown",
      "metadata": {
        "id": "uL5QkCgzLgT4"
      },
      "source": [
        "Los objetivos de este notebook son:\n",
        "- Ilustrar la extracción de un diccionario de tokens de un texto.\n",
        "- Ilustrar el proceso de tokenización de una secuencia de palabras\n",
        "- Aplicar procesos de padding y truncating en la tokenización de secuencias de texto\n",
        "- Crear un modelo de clasificación de texto (análisis de sentimiento) usando capas recurrentes, y capas recurrentes bidireccionales.\n",
        "- Utilizar embeddings para representar secuencias de tokens categóricos en un espacio vectorial multidimensional\n",
        "- Realizar transfer learning de embeddings preentrenados.\n",
        "- Utilizar las funcionalidades de base del package `torchtext`."
      ]
    },
    {
      "cell_type": "markdown",
      "metadata": {
        "id": "ZWXGOr6BuPD9"
      },
      "source": [
        "Este notebook está basado en material encontrado en:\n",
        "- *Machine Learning with PyTorch and Scikit-Learn*, Sebastian Raschka, Yuxi Liu & Vahid Mirjalili, Packt, 2022\n",
        "- *Dive into Deep Learning*, Aston Zhang, Zachary C. Lipton, Mu Li & Alexander J. Smola, https://d2l.ai/, 2022\n",
        "- *Deep Learning Specialization*, DeepLearning.AI, (acceso nov 2020), Coursera\n",
        "- *PyTorch*, https://pytorch.org/"
      ]
    },
    {
      "cell_type": "code",
      "execution_count": 1,
      "metadata": {
        "id": "cNe5k60kxmfT"
      },
      "outputs": [],
      "source": [
        "import re\n",
        "import os\n",
        "import time\n",
        "import copy\n",
        "import numpy as np\n",
        "import pandas as pd\n",
        "import matplotlib.pyplot as plt\n",
        "from sklearn.model_selection import train_test_split\n",
        "from collections import Counter, OrderedDict"
      ]
    },
    {
      "cell_type": "markdown",
      "metadata": {
        "id": "BCkoqbgsXSzl"
      },
      "source": [
        "Vamos a utilizar la libreria `torchtext` de tratamiento de texto y a requerir `torchdata` para acceder a datasets de ejemplo."
      ]
    },
    {
      "cell_type": "code",
      "execution_count": 2,
      "metadata": {
        "colab": {
          "base_uri": "https://localhost:8080/"
        },
        "id": "KBchXKjvVpbw",
        "outputId": "65716234-4d38-46fe-b21a-b72a77daa622"
      },
      "outputs": [
        {
          "output_type": "stream",
          "name": "stdout",
          "text": [
            "Looking in indexes: https://pypi.org/simple, https://us-python.pkg.dev/colab-wheels/public/simple/\n",
            "Requirement already satisfied: torchtext in /usr/local/lib/python3.8/dist-packages (0.14.1)\n",
            "Requirement already satisfied: numpy in /usr/local/lib/python3.8/dist-packages (from torchtext) (1.22.4)\n",
            "Requirement already satisfied: tqdm in /usr/local/lib/python3.8/dist-packages (from torchtext) (4.64.1)\n",
            "Requirement already satisfied: torch==1.13.1 in /usr/local/lib/python3.8/dist-packages (from torchtext) (1.13.1+cu116)\n",
            "Requirement already satisfied: requests in /usr/local/lib/python3.8/dist-packages (from torchtext) (2.25.1)\n",
            "Requirement already satisfied: typing-extensions in /usr/local/lib/python3.8/dist-packages (from torch==1.13.1->torchtext) (4.5.0)\n",
            "Requirement already satisfied: certifi>=2017.4.17 in /usr/local/lib/python3.8/dist-packages (from requests->torchtext) (2022.12.7)\n",
            "Requirement already satisfied: idna<3,>=2.5 in /usr/local/lib/python3.8/dist-packages (from requests->torchtext) (2.10)\n",
            "Requirement already satisfied: chardet<5,>=3.0.2 in /usr/local/lib/python3.8/dist-packages (from requests->torchtext) (4.0.0)\n",
            "Requirement already satisfied: urllib3<1.27,>=1.21.1 in /usr/local/lib/python3.8/dist-packages (from requests->torchtext) (1.24.3)\n"
          ]
        }
      ],
      "source": [
        "!pip install torchtext"
      ]
    },
    {
      "cell_type": "code",
      "execution_count": 3,
      "metadata": {
        "colab": {
          "base_uri": "https://localhost:8080/"
        },
        "id": "G43HC6qJV4gb",
        "outputId": "4005322f-1dec-4e75-840e-5303d2d1dc26"
      },
      "outputs": [
        {
          "output_type": "stream",
          "name": "stdout",
          "text": [
            "Looking in indexes: https://pypi.org/simple, https://us-python.pkg.dev/colab-wheels/public/simple/\n",
            "Collecting torchdata\n",
            "  Downloading torchdata-0.5.1-cp38-cp38-manylinux_2_17_x86_64.manylinux2014_x86_64.whl (4.6 MB)\n",
            "\u001b[2K     \u001b[90m━━━━━━━━━━━━━━━━━━━━━━━━━━━━━━━━━━━━━━━━\u001b[0m \u001b[32m4.6/4.6 MB\u001b[0m \u001b[31m44.4 MB/s\u001b[0m eta \u001b[36m0:00:00\u001b[0m\n",
            "\u001b[?25hRequirement already satisfied: torch==1.13.1 in /usr/local/lib/python3.8/dist-packages (from torchdata) (1.13.1+cu116)\n",
            "Requirement already satisfied: requests in /usr/local/lib/python3.8/dist-packages (from torchdata) (2.25.1)\n",
            "Collecting urllib3>=1.25\n",
            "  Downloading urllib3-1.26.14-py2.py3-none-any.whl (140 kB)\n",
            "\u001b[2K     \u001b[90m━━━━━━━━━━━━━━━━━━━━━━━━━━━━━━━━━━━━━━\u001b[0m \u001b[32m140.6/140.6 KB\u001b[0m \u001b[31m18.5 MB/s\u001b[0m eta \u001b[36m0:00:00\u001b[0m\n",
            "\u001b[?25hCollecting portalocker>=2.0.0\n",
            "  Downloading portalocker-2.7.0-py2.py3-none-any.whl (15 kB)\n",
            "Requirement already satisfied: typing-extensions in /usr/local/lib/python3.8/dist-packages (from torch==1.13.1->torchdata) (4.5.0)\n",
            "Requirement already satisfied: chardet<5,>=3.0.2 in /usr/local/lib/python3.8/dist-packages (from requests->torchdata) (4.0.0)\n",
            "Requirement already satisfied: idna<3,>=2.5 in /usr/local/lib/python3.8/dist-packages (from requests->torchdata) (2.10)\n",
            "Requirement already satisfied: certifi>=2017.4.17 in /usr/local/lib/python3.8/dist-packages (from requests->torchdata) (2022.12.7)\n",
            "Installing collected packages: urllib3, portalocker, torchdata\n",
            "  Attempting uninstall: urllib3\n",
            "    Found existing installation: urllib3 1.24.3\n",
            "    Uninstalling urllib3-1.24.3:\n",
            "      Successfully uninstalled urllib3-1.24.3\n",
            "Successfully installed portalocker-2.7.0 torchdata-0.5.1 urllib3-1.26.14\n"
          ]
        }
      ],
      "source": [
        "!pip install torchdata"
      ]
    },
    {
      "cell_type": "code",
      "execution_count": 4,
      "metadata": {
        "id": "Kr_v69sqVrXM"
      },
      "outputs": [],
      "source": [
        "import torch\n",
        "import torch.nn as nn\n",
        "from torchtext.vocab import vocab\n",
        "from torch.utils.data import Dataset\n",
        "from torch.utils.data import DataLoader"
      ]
    },
    {
      "cell_type": "code",
      "execution_count": 5,
      "metadata": {
        "colab": {
          "base_uri": "https://localhost:8080/"
        },
        "id": "P5wkAana0Izp",
        "outputId": "9831e6f9-e750-4b98-b631-b529e8111a88"
      },
      "outputs": [
        {
          "output_type": "stream",
          "name": "stdout",
          "text": [
            "Utilizamos la primera GPU disponible\n"
          ]
        },
        {
          "output_type": "execute_result",
          "data": {
            "text/plain": [
              "device(type='cuda', index=0)"
            ]
          },
          "metadata": {},
          "execution_count": 5
        }
      ],
      "source": [
        "if torch.cuda.is_available():\n",
        "    print(\"Utilizamos la primera GPU disponible\")\n",
        "    DEVICE=device = torch.device('cuda:0')\n",
        "    os.environ[\"CUDA_LAUNCH_BLOCKING\"] = \"1\"\n",
        "else:\n",
        "    print(\"No hay GPU, toca correr todo en CPU\")\n",
        "    DEVICE=device = torch.device('cpu')\n",
        "\n",
        "DEVICE"
      ]
    },
    {
      "cell_type": "markdown",
      "metadata": {
        "id": "RiuZqwMzxc5s"
      },
      "source": [
        "Para poder analizar y procesar secuencias de términos es necesario primero definir el tipo de representación que se va a utilizar, y los procesos de pre procesamiento que las normalizarán. \n",
        "\n",
        "En el caso de texto, los elementos de las secuencias tienen una representación categórica, por lo que hay que pre-procesarlos con el objetivo de encontrar una **representación numérica**. Esto se logra con en 2 pasos:\n",
        "- Primero, es necesario identificar la unidad atómica de tratamiento, ya sea palabras, caracteres, o subpalabras. A este proceso se le llama **tokenización**, y consiste en definir el vocabulario que se va a tomar como punto de partida del análisis, identificando los términos únicos a considerar.\n",
        "- Luego hay que codificar los tokens numéricamente para que puedan ser procesados por modelos de redes neuronales; que una palabra no sea un ID categórico sin orden determinado (token), sino un punto en un espacio multidimensional. A este proceso se le llama **vectorización**, y hay dos aproximaciones para esta tarea:\n",
        "    - **One hot encoding**: se utiliza un espacio de representación donde cada dimensión corresponde a uno de los posibles términos que se pueden encontrar en las secuencias. Cada término en una secuencia es entonces representado como un vector de muchísimos 0s, salvo por la dimensión que corresponde al término en sí. Esto crea problemas, pues este espacio es bastante disperso (muy pocos 1s), de muy alta dimensionalidad, y codificado \"en duro\" (la posición de cada término sigue un proceso arbitrario no basado en los datos en sí)\n",
        "    - **Embedding**: se utiliza un espacio de representación de dimensionalidad reducida, cuyo espacio está basado en una estructura estadística de la representación de los términos encontrados en las secuencias. En el caso de texto, la información de las relaciones de coocurrencia de las palabras se conserva a través de la distancia en el nuevo espacio de representación aprendido.\n",
        "\n",
        "Las secuencias originales son entonces transformadas en tensores numéricos de rango 2:\n",
        "- un eje para cada término de la secuencia, \n",
        "- otro para el espacio de representación de cada término en múltiples dimensiones."
      ]
    },
    {
      "cell_type": "markdown",
      "metadata": {
        "id": "in2Ap3W_mjb5"
      },
      "source": [
        "# 1. Proceso de **tokenización** - creación del vocabulario de términos"
      ]
    },
    {
      "cell_type": "markdown",
      "metadata": {
        "id": "jd5t8vnLxc5t"
      },
      "source": [
        "En un primer ejemplo sencillo vamos a establecer un dataset de texto con 3 frases. Incluímos un tag de HTML para ilustrar la necesidad de realizar un proceso de limpieza de los datos. También hay presente un emoticon \":)\", que quisieramos considerar como un token en sí."
      ]
    },
    {
      "cell_type": "code",
      "execution_count": 6,
      "metadata": {
        "id": "2q4CYYK_xc5u"
      },
      "outputs": [],
      "source": [
        "texto = 'No <br/> quiero volver a la oficina!\\n'+\\\n",
        "    'Prefiero trabajar <b>en</b> la casa que en la oficina :).\\n'+\\\n",
        "    'Quiero seguir con el trabajo :D <br/> remoto, no volver a la oficina :().\\n'"
      ]
    },
    {
      "cell_type": "code",
      "execution_count": 7,
      "metadata": {
        "colab": {
          "base_uri": "https://localhost:8080/"
        },
        "id": "S6hUAHTAxc5x",
        "outputId": "2fb383d0-1a3c-4a8e-c9c6-e83ba1224443"
      },
      "outputs": [
        {
          "output_type": "stream",
          "name": "stdout",
          "text": [
            "No <br/> quiero volver a la oficina!\n",
            "Prefiero trabajar <b>en</b> la casa que en la oficina :).\n",
            "Quiero seguir con el trabajo :D <br/> remoto, no volver a la oficina :().\n",
            "\n"
          ]
        }
      ],
      "source": [
        "print(texto)"
      ]
    },
    {
      "cell_type": "markdown",
      "metadata": {
        "id": "uNG7WfUyyjiB"
      },
      "source": [
        "Lo primero que hacemos es remplazar los tags HTML por espacios en blanco, utilizando la función `re.sub`, que busca ocurrencias de texto que respondan a una expresión regular (en este caso secuencias de caracteres enmarcados por los brackets de los tags de HTML) y remplaza sus ocurrencias por un texto definido (en este caso sera una cadena vacía)"
      ]
    },
    {
      "cell_type": "code",
      "execution_count": 8,
      "metadata": {
        "id": "nG0mCwkUyWZS"
      },
      "outputs": [],
      "source": [
        "texto_sinhtml = re.sub('<[^>]*>', '', texto)"
      ]
    },
    {
      "cell_type": "code",
      "execution_count": 9,
      "metadata": {
        "colab": {
          "base_uri": "https://localhost:8080/"
        },
        "id": "XiK45vtxyWP6",
        "outputId": "f605d743-97c4-43f2-bd4f-d7fb624e5088"
      },
      "outputs": [
        {
          "output_type": "stream",
          "name": "stdout",
          "text": [
            "No  quiero volver a la oficina!\n",
            "Prefiero trabajar en la casa que en la oficina :).\n",
            "Quiero seguir con el trabajo :D  remoto, no volver a la oficina :().\n",
            "\n"
          ]
        }
      ],
      "source": [
        "print(texto_sinhtml)"
      ]
    },
    {
      "cell_type": "markdown",
      "metadata": {
        "id": "YrFYoYkRzCzU"
      },
      "source": [
        "Ahora vamos a identificar las palabras que componen este texto. Utilizaremos el método `split()`, que recibe un separador (cualquier caracter de espacio en blanco por defecto) y devuelve un array con todos los tokens extraídos."
      ]
    },
    {
      "cell_type": "code",
      "execution_count": 10,
      "metadata": {
        "colab": {
          "base_uri": "https://localhost:8080/"
        },
        "id": "oRU8yBCEzCRb",
        "outputId": "37efd7f3-1fc8-4dfa-d5ee-98a6a7b9237d"
      },
      "outputs": [
        {
          "output_type": "execute_result",
          "data": {
            "text/plain": [
              "['No',\n",
              " 'quiero',\n",
              " 'volver',\n",
              " 'a',\n",
              " 'la',\n",
              " 'oficina!',\n",
              " 'Prefiero',\n",
              " 'trabajar',\n",
              " 'en',\n",
              " 'la',\n",
              " 'casa',\n",
              " 'que',\n",
              " 'en',\n",
              " 'la',\n",
              " 'oficina',\n",
              " ':).',\n",
              " 'Quiero',\n",
              " 'seguir',\n",
              " 'con',\n",
              " 'el',\n",
              " 'trabajo',\n",
              " ':D',\n",
              " 'remoto,',\n",
              " 'no',\n",
              " 'volver',\n",
              " 'a',\n",
              " 'la',\n",
              " 'oficina',\n",
              " ':().']"
            ]
          },
          "metadata": {},
          "execution_count": 10
        }
      ],
      "source": [
        "texto_sinhtml.split()"
      ]
    },
    {
      "cell_type": "markdown",
      "metadata": {
        "id": "YTYQrXbzzCHw"
      },
      "source": [
        "Nuestro primer objetivo es crear un diccionario de tokens (palabras). Notemos que hay algunas palabras que tienen asociados caracteres de puntuación, y que también está presente el emoticón. Para el ejemplo actual no queremos conservar la puntuación, pero si los tokens de los emoticones.\n",
        "\n",
        "Vamos entonces a buscar los emoticones presentes para guardarlos y luego poder eliminar la puntuación. Utilizaremos entonces la función `re.findall`que recibe una expresión regular denotando los elementos que buscamos."
      ]
    },
    {
      "cell_type": "code",
      "execution_count": 11,
      "metadata": {
        "colab": {
          "base_uri": "https://localhost:8080/",
          "height": 35
        },
        "id": "KYs2Xtt25qSn",
        "outputId": "7bdd222b-99c8-49ff-8574-483dfc0d68fd"
      },
      "outputs": [
        {
          "output_type": "execute_result",
          "data": {
            "text/plain": [
              "'No  quiero volver a la oficina!\\nPrefiero trabajar en la casa que en la oficina :).\\nQuiero seguir con el trabajo :D  remoto, no volver a la oficina :().\\n'"
            ],
            "application/vnd.google.colaboratory.intrinsic+json": {
              "type": "string"
            }
          },
          "metadata": {},
          "execution_count": 11
        }
      ],
      "source": [
        "texto_sinhtml"
      ]
    },
    {
      "cell_type": "code",
      "execution_count": 12,
      "metadata": {
        "colab": {
          "base_uri": "https://localhost:8080/"
        },
        "id": "lYcsz_nIOHqf",
        "outputId": "f040068d-12a8-4e85-bcc0-f10fc09fe37c"
      },
      "outputs": [
        {
          "output_type": "execute_result",
          "data": {
            "text/plain": [
              "[';D', ':(', ':)', ':D']"
            ]
          },
          "metadata": {},
          "execution_count": 12
        }
      ],
      "source": [
        "re.findall('(?::|;|=)(?:-)?(?:\\)|\\(|D|P)', \";D :(,:)  :D\")"
      ]
    },
    {
      "cell_type": "code",
      "execution_count": 13,
      "metadata": {
        "colab": {
          "base_uri": "https://localhost:8080/"
        },
        "id": "wNtMC1JG46wP",
        "outputId": "f552d831-d811-4411-d600-851e19adc784"
      },
      "outputs": [
        {
          "output_type": "execute_result",
          "data": {
            "text/plain": [
              "[':)', ':D', ':(']"
            ]
          },
          "metadata": {},
          "execution_count": 13
        }
      ],
      "source": [
        "emoticons = re.findall('(?::|;|=)(?:-)?(?:\\)|\\(|D|P)', texto_sinhtml)\n",
        "emoticons"
      ]
    },
    {
      "cell_type": "markdown",
      "metadata": {
        "id": "e9pnaDAh4_QT"
      },
      "source": [
        "Ahora que ya extraimos los emoticones, procedemos a eliminar los símbolos de puntuación, reemplazando los \"non-word characters\" (regex \"\\W\") por espacios en blanco. Vamos a considerar el texto en minúsculas, para que dos instancias de la misma palabra, al comienzo o no de una frase, sean consideradas iguales. Al final del texto agregamos los emoticones encontrados para que sean posteriormente considerados como tokens,"
      ]
    },
    {
      "cell_type": "code",
      "execution_count": 14,
      "metadata": {
        "colab": {
          "base_uri": "https://localhost:8080/",
          "height": 35
        },
        "id": "vCmeGzi64_G8",
        "outputId": "3607067f-40f0-4e27-b6e2-6a7e88fee823"
      },
      "outputs": [
        {
          "output_type": "execute_result",
          "data": {
            "text/plain": [
              "'no quiero volver a la oficina prefiero trabajar en la casa que en la oficina quiero seguir con el trabajo d remoto no volver a la oficina :) :D :('"
            ],
            "application/vnd.google.colaboratory.intrinsic+json": {
              "type": "string"
            }
          },
          "metadata": {},
          "execution_count": 14
        }
      ],
      "source": [
        "texto_limpio = (re.sub('[\\W]+', ' ', texto_sinhtml.lower()) + ' '.join(emoticons))\n",
        "texto_limpio"
      ]
    },
    {
      "cell_type": "markdown",
      "metadata": {
        "id": "_iJKAwnFQwd-"
      },
      "source": [
        "Con la preparación del texto ya finalizada, podemos ahora definir una función `tokenizer` que se encargará de separar los tokens a considerar en el tratamiento de NLP de este texto."
      ]
    },
    {
      "cell_type": "code",
      "execution_count": 15,
      "metadata": {
        "id": "aH0qHgtJxc50"
      },
      "outputs": [],
      "source": [
        "def tokenizer(text):\n",
        "    text = re.sub('<[^>]*>', '', text)\n",
        "    emoticons = re.findall(\n",
        "        '(?::|;|=)(?:-)?(?:\\)|\\(|D|P)', text)\n",
        "    text = (re.sub('[\\W]+', ' ', text.lower()))  + ' '.join(emoticons)\n",
        "    tokenized = text.split()\n",
        "    return tokenized"
      ]
    },
    {
      "cell_type": "code",
      "execution_count": 16,
      "metadata": {
        "colab": {
          "base_uri": "https://localhost:8080/"
        },
        "id": "e48x3K1hxc51",
        "outputId": "3ba2575f-cc47-4d28-f848-697aafc37986"
      },
      "outputs": [
        {
          "output_type": "execute_result",
          "data": {
            "text/plain": [
              "['no',\n",
              " 'quiero',\n",
              " 'volver',\n",
              " 'a',\n",
              " 'la',\n",
              " 'oficina',\n",
              " 'prefiero',\n",
              " 'trabajar',\n",
              " 'en',\n",
              " 'la',\n",
              " 'casa',\n",
              " 'que',\n",
              " 'en',\n",
              " 'la',\n",
              " 'oficina',\n",
              " 'quiero',\n",
              " 'seguir',\n",
              " 'con',\n",
              " 'el',\n",
              " 'trabajo',\n",
              " 'd',\n",
              " 'remoto',\n",
              " 'no',\n",
              " 'volver',\n",
              " 'a',\n",
              " 'la',\n",
              " 'oficina',\n",
              " ':)',\n",
              " ':D',\n",
              " ':(']"
            ]
          },
          "metadata": {},
          "execution_count": 16
        }
      ],
      "source": [
        "palabras = tokenizer(texto)\n",
        "palabras"
      ]
    },
    {
      "cell_type": "markdown",
      "metadata": {
        "id": "dWiz9Fwqxc52"
      },
      "source": [
        "Vamos ahora a utilizar la clase `collections.Counter` para definir las frecuencias de los tokens (palabras, en este caso) en los textos."
      ]
    },
    {
      "cell_type": "code",
      "execution_count": 17,
      "metadata": {
        "colab": {
          "base_uri": "https://localhost:8080/"
        },
        "id": "YM4BDASWSwc0",
        "outputId": "a2c6c471-d39e-4367-da0c-eaeee23727f3"
      },
      "outputs": [
        {
          "output_type": "stream",
          "name": "stdout",
          "text": [
            "Vocab-size: 20\n"
          ]
        }
      ],
      "source": [
        "contador = Counter()\n",
        "tokens = tokenizer(texto)\n",
        "contador.update(tokens)\n",
        "print('Vocab-size:', len(contador))"
      ]
    },
    {
      "cell_type": "code",
      "execution_count": 18,
      "metadata": {
        "colab": {
          "base_uri": "https://localhost:8080/"
        },
        "id": "uUIw-E2gSwS0",
        "outputId": "8fa91041-672f-4f78-93a2-016ce1b7e04e"
      },
      "outputs": [
        {
          "output_type": "execute_result",
          "data": {
            "text/plain": [
              "Counter({'no': 2,\n",
              "         'quiero': 2,\n",
              "         'volver': 2,\n",
              "         'a': 2,\n",
              "         'la': 4,\n",
              "         'oficina': 3,\n",
              "         'prefiero': 1,\n",
              "         'trabajar': 1,\n",
              "         'en': 2,\n",
              "         'casa': 1,\n",
              "         'que': 1,\n",
              "         'seguir': 1,\n",
              "         'con': 1,\n",
              "         'el': 1,\n",
              "         'trabajo': 1,\n",
              "         'd': 1,\n",
              "         'remoto': 1,\n",
              "         ':)': 1,\n",
              "         ':D': 1,\n",
              "         ':(': 1})"
            ]
          },
          "metadata": {},
          "execution_count": 18
        }
      ],
      "source": [
        "contador"
      ]
    },
    {
      "cell_type": "markdown",
      "metadata": {
        "id": "mEzTBBbgSwJj"
      },
      "source": [
        "Podemos ver la frecuencia de cada uno de los tokens."
      ]
    },
    {
      "cell_type": "code",
      "execution_count": 19,
      "metadata": {
        "colab": {
          "base_uri": "https://localhost:8080/"
        },
        "id": "UXiLUWaPUHC_",
        "outputId": "0d9ca893-e7d8-494b-cabd-ce8cbc5e3910"
      },
      "outputs": [
        {
          "output_type": "execute_result",
          "data": {
            "text/plain": [
              "4"
            ]
          },
          "metadata": {},
          "execution_count": 19
        }
      ],
      "source": [
        "contador[\"la\"]"
      ]
    },
    {
      "cell_type": "markdown",
      "metadata": {
        "id": "dQx4SZCMxc53"
      },
      "source": [
        "Ahora vamos a crear un diccionario a partir de una instancia de `collections.OrderedDict`, asociando cada token a un entero, con todos los tokens ordenados de mayor a menor frecuencia. Este diccionario sera la base para crear un **vocabulario** usando la clase `Vocab` del package `torchtext`."
      ]
    },
    {
      "cell_type": "code",
      "execution_count": 20,
      "metadata": {
        "colab": {
          "base_uri": "https://localhost:8080/"
        },
        "id": "WafaVURWUNY2",
        "outputId": "4d063274-d62f-4a95-97bd-18230cd0b569"
      },
      "outputs": [
        {
          "output_type": "execute_result",
          "data": {
            "text/plain": [
              "OrderedDict([('la', 4),\n",
              "             ('oficina', 3),\n",
              "             ('no', 2),\n",
              "             ('quiero', 2),\n",
              "             ('volver', 2),\n",
              "             ('a', 2),\n",
              "             ('en', 2),\n",
              "             ('prefiero', 1),\n",
              "             ('trabajar', 1),\n",
              "             ('casa', 1),\n",
              "             ('que', 1),\n",
              "             ('seguir', 1),\n",
              "             ('con', 1),\n",
              "             ('el', 1),\n",
              "             ('trabajo', 1),\n",
              "             ('d', 1),\n",
              "             ('remoto', 1),\n",
              "             (':)', 1),\n",
              "             (':D', 1),\n",
              "             (':(', 1)])"
            ]
          },
          "metadata": {},
          "execution_count": 20
        }
      ],
      "source": [
        "sorted_by_freq_tuples = sorted(contador.items(), key=lambda x: x[1], reverse=True)\n",
        "ordered_dict = OrderedDict(sorted_by_freq_tuples)\n",
        "ordered_dict"
      ]
    },
    {
      "cell_type": "code",
      "execution_count": 21,
      "metadata": {
        "colab": {
          "base_uri": "https://localhost:8080/"
        },
        "id": "gslXULg6VAV-",
        "outputId": "1b178b53-c654-49d2-9386-95731f2d0082"
      },
      "outputs": [
        {
          "output_type": "execute_result",
          "data": {
            "text/plain": [
              "3"
            ]
          },
          "metadata": {},
          "execution_count": 21
        }
      ],
      "source": [
        "ordered_dict[\"oficina\"]"
      ]
    },
    {
      "cell_type": "markdown",
      "metadata": {
        "id": "fv6vvQgrWQ9X"
      },
      "source": [
        "Al vocabulario le insertaremos dos tokens especiales al comienzo:\n",
        "- un token **\\<pad\\>** que se utilizará una vez se haya definido el largo de las secuencias de tokens que se manejará en los modelos. Este token cobrará sentido mas adelante.\n",
        "- un token **\\<unk\\>**. El vocabulario no tendrá todas las palabras posibles. Es muy posible que sea necesario tratar textos con palabras desconocidas. En tal caso, estas se representarán con este token particular. Todos los tokens que no estén en el vocabulario serán asociados al token 1."
      ]
    },
    {
      "cell_type": "code",
      "execution_count": 22,
      "metadata": {
        "id": "Pr4PRJzxUMh0"
      },
      "outputs": [],
      "source": [
        "vocabulario = vocab(ordered_dict)\n",
        "vocabulario.insert_token(\"<pad>\", 0)\n",
        "vocabulario.insert_token(\"<unk>\", 1)\n",
        "vocabulario.set_default_index(1)"
      ]
    },
    {
      "cell_type": "markdown",
      "metadata": {
        "id": "lgP_8hvPYBs0"
      },
      "source": [
        "Podemos ahora codificar un texto a partir del vocabulario.\n"
      ]
    },
    {
      "cell_type": "code",
      "execution_count": 23,
      "metadata": {
        "colab": {
          "base_uri": "https://localhost:8080/"
        },
        "id": "liim8o9jV300",
        "outputId": "326e5b89-5d60-4c37-d5ff-de46cdbb7254"
      },
      "outputs": [
        {
          "output_type": "stream",
          "name": "stdout",
          "text": [
            "[4, 9, 2, 3]\n"
          ]
        }
      ],
      "source": [
        "print([vocabulario[token] for token in \"no prefiero la oficina\".split()])"
      ]
    },
    {
      "cell_type": "markdown",
      "metadata": {
        "id": "wLV7pTMyc-__"
      },
      "source": [
        "Comprobemos que al no encontrar un token, se utiliza el token ID especial 1 correspondiente a **\\<unk\\>**."
      ]
    },
    {
      "cell_type": "code",
      "execution_count": 24,
      "metadata": {
        "colab": {
          "base_uri": "https://localhost:8080/"
        },
        "id": "5gyzNWx6dKDL",
        "outputId": "1850a3e2-2974-4204-b197-a9efb530c3a7"
      },
      "outputs": [
        {
          "output_type": "execute_result",
          "data": {
            "text/plain": [
              "1"
            ]
          },
          "metadata": {},
          "execution_count": 24
        }
      ],
      "source": [
        "vocabulario[\"responsabilidad\"]"
      ]
    },
    {
      "cell_type": "markdown",
      "metadata": {
        "id": "d9jFV3KaW9LG"
      },
      "source": [
        "Podemos entonces crear una función `text_pipeline`, que define una tubería que incluye:\n",
        "- limpieza y tokenización del texto a partir de un llamado a la función `tokenizer` previamente definida.\n",
        "- traducción de la secuencia de tokens textuales a una secuencia de token IDs."
      ]
    },
    {
      "cell_type": "code",
      "execution_count": 25,
      "metadata": {
        "id": "oTYlLnBoW9LH"
      },
      "outputs": [],
      "source": [
        "text_pipeline = lambda x: [vocabulario[token] for token in tokenizer(x)]"
      ]
    },
    {
      "cell_type": "code",
      "execution_count": 26,
      "metadata": {
        "colab": {
          "base_uri": "https://localhost:8080/",
          "height": 35
        },
        "id": "-CodRB6pW9LH",
        "outputId": "90e67bed-1d2b-455f-d75f-7e09c0590d7b"
      },
      "outputs": [
        {
          "output_type": "execute_result",
          "data": {
            "text/plain": [
              "'No <br/> quiero volver a la oficina!\\nPrefiero trabajar <b>en</b> la casa que en la oficina :).\\nQuiero seguir con el trabajo :D <br/> remoto, no volver a la oficina :().\\n'"
            ],
            "application/vnd.google.colaboratory.intrinsic+json": {
              "type": "string"
            }
          },
          "metadata": {},
          "execution_count": 26
        }
      ],
      "source": [
        "texto"
      ]
    },
    {
      "cell_type": "code",
      "execution_count": 27,
      "metadata": {
        "colab": {
          "base_uri": "https://localhost:8080/"
        },
        "id": "J_IrE9YeW9LI",
        "outputId": "f529a52f-c51b-4bbb-892e-e388f91bde6d"
      },
      "outputs": [
        {
          "output_type": "execute_result",
          "data": {
            "text/plain": [
              "[4,\n",
              " 5,\n",
              " 6,\n",
              " 7,\n",
              " 2,\n",
              " 3,\n",
              " 9,\n",
              " 10,\n",
              " 8,\n",
              " 2,\n",
              " 11,\n",
              " 12,\n",
              " 8,\n",
              " 2,\n",
              " 3,\n",
              " 5,\n",
              " 13,\n",
              " 14,\n",
              " 15,\n",
              " 16,\n",
              " 17,\n",
              " 18,\n",
              " 4,\n",
              " 6,\n",
              " 7,\n",
              " 2,\n",
              " 3,\n",
              " 19,\n",
              " 20,\n",
              " 21]"
            ]
          },
          "metadata": {},
          "execution_count": 27
        }
      ],
      "source": [
        "text_pipeline(texto)"
      ]
    },
    {
      "cell_type": "markdown",
      "metadata": {
        "id": "D91SBl3aUc5O"
      },
      "source": [
        "# 2. Proceso de **tokenización** para un dataset de análisis de sentimiento"
      ]
    },
    {
      "cell_type": "markdown",
      "metadata": {
        "id": "NAEKgBApp4WQ"
      },
      "source": [
        "Para ilustrar la solución a un problema de clasificación de texto, vamos a utilizar un dataset de análisis de sentimiento de *reviews* de películas, facilitado por el sitio web **IMDB**.com.\n",
        "\n",
        "El dataset comprende 50000 textos que describen la opinión crítica de personas acerca de las películas, clasificadas en opiniones positivas (25000) y negativas (25000)."
      ]
    },
    {
      "cell_type": "markdown",
      "metadata": {
        "id": "8mAAArbqoCjs"
      },
      "source": [
        "Para cargar el dataset, es necesario:\n",
        "- loggearse a Kaggle con el usuario de cada persona,\n",
        "- ir a https://www.kaggle.com/datasets/lakshmi25npathi/imdb-dataset-of-50k-movie-reviews y descargar el archivo zippeado,\n",
        "- subir el archivo \"IMDB Dataset.csv.zip\" a Colab (puede tomar 5 minutos),\n",
        "- descomprimirlo,\n",
        "- crear un dataframe con el dataset."
      ]
    },
    {
      "cell_type": "code",
      "execution_count": 28,
      "metadata": {
        "colab": {
          "base_uri": "https://localhost:8080/",
          "height": 73
        },
        "id": "uhnEsTmPoBhT",
        "outputId": "a9a4ba79-dd36-4188-bbb3-dd95dfaa98f9"
      },
      "outputs": [
        {
          "output_type": "display_data",
          "data": {
            "text/plain": [
              "<IPython.core.display.HTML object>"
            ],
            "text/html": [
              "\n",
              "     <input type=\"file\" id=\"files-31138265-fab8-445c-873d-330f08110340\" name=\"files[]\" multiple disabled\n",
              "        style=\"border:none\" />\n",
              "     <output id=\"result-31138265-fab8-445c-873d-330f08110340\">\n",
              "      Upload widget is only available when the cell has been executed in the\n",
              "      current browser session. Please rerun this cell to enable.\n",
              "      </output>\n",
              "      <script>// Copyright 2017 Google LLC\n",
              "//\n",
              "// Licensed under the Apache License, Version 2.0 (the \"License\");\n",
              "// you may not use this file except in compliance with the License.\n",
              "// You may obtain a copy of the License at\n",
              "//\n",
              "//      http://www.apache.org/licenses/LICENSE-2.0\n",
              "//\n",
              "// Unless required by applicable law or agreed to in writing, software\n",
              "// distributed under the License is distributed on an \"AS IS\" BASIS,\n",
              "// WITHOUT WARRANTIES OR CONDITIONS OF ANY KIND, either express or implied.\n",
              "// See the License for the specific language governing permissions and\n",
              "// limitations under the License.\n",
              "\n",
              "/**\n",
              " * @fileoverview Helpers for google.colab Python module.\n",
              " */\n",
              "(function(scope) {\n",
              "function span(text, styleAttributes = {}) {\n",
              "  const element = document.createElement('span');\n",
              "  element.textContent = text;\n",
              "  for (const key of Object.keys(styleAttributes)) {\n",
              "    element.style[key] = styleAttributes[key];\n",
              "  }\n",
              "  return element;\n",
              "}\n",
              "\n",
              "// Max number of bytes which will be uploaded at a time.\n",
              "const MAX_PAYLOAD_SIZE = 100 * 1024;\n",
              "\n",
              "function _uploadFiles(inputId, outputId) {\n",
              "  const steps = uploadFilesStep(inputId, outputId);\n",
              "  const outputElement = document.getElementById(outputId);\n",
              "  // Cache steps on the outputElement to make it available for the next call\n",
              "  // to uploadFilesContinue from Python.\n",
              "  outputElement.steps = steps;\n",
              "\n",
              "  return _uploadFilesContinue(outputId);\n",
              "}\n",
              "\n",
              "// This is roughly an async generator (not supported in the browser yet),\n",
              "// where there are multiple asynchronous steps and the Python side is going\n",
              "// to poll for completion of each step.\n",
              "// This uses a Promise to block the python side on completion of each step,\n",
              "// then passes the result of the previous step as the input to the next step.\n",
              "function _uploadFilesContinue(outputId) {\n",
              "  const outputElement = document.getElementById(outputId);\n",
              "  const steps = outputElement.steps;\n",
              "\n",
              "  const next = steps.next(outputElement.lastPromiseValue);\n",
              "  return Promise.resolve(next.value.promise).then((value) => {\n",
              "    // Cache the last promise value to make it available to the next\n",
              "    // step of the generator.\n",
              "    outputElement.lastPromiseValue = value;\n",
              "    return next.value.response;\n",
              "  });\n",
              "}\n",
              "\n",
              "/**\n",
              " * Generator function which is called between each async step of the upload\n",
              " * process.\n",
              " * @param {string} inputId Element ID of the input file picker element.\n",
              " * @param {string} outputId Element ID of the output display.\n",
              " * @return {!Iterable<!Object>} Iterable of next steps.\n",
              " */\n",
              "function* uploadFilesStep(inputId, outputId) {\n",
              "  const inputElement = document.getElementById(inputId);\n",
              "  inputElement.disabled = false;\n",
              "\n",
              "  const outputElement = document.getElementById(outputId);\n",
              "  outputElement.innerHTML = '';\n",
              "\n",
              "  const pickedPromise = new Promise((resolve) => {\n",
              "    inputElement.addEventListener('change', (e) => {\n",
              "      resolve(e.target.files);\n",
              "    });\n",
              "  });\n",
              "\n",
              "  const cancel = document.createElement('button');\n",
              "  inputElement.parentElement.appendChild(cancel);\n",
              "  cancel.textContent = 'Cancel upload';\n",
              "  const cancelPromise = new Promise((resolve) => {\n",
              "    cancel.onclick = () => {\n",
              "      resolve(null);\n",
              "    };\n",
              "  });\n",
              "\n",
              "  // Wait for the user to pick the files.\n",
              "  const files = yield {\n",
              "    promise: Promise.race([pickedPromise, cancelPromise]),\n",
              "    response: {\n",
              "      action: 'starting',\n",
              "    }\n",
              "  };\n",
              "\n",
              "  cancel.remove();\n",
              "\n",
              "  // Disable the input element since further picks are not allowed.\n",
              "  inputElement.disabled = true;\n",
              "\n",
              "  if (!files) {\n",
              "    return {\n",
              "      response: {\n",
              "        action: 'complete',\n",
              "      }\n",
              "    };\n",
              "  }\n",
              "\n",
              "  for (const file of files) {\n",
              "    const li = document.createElement('li');\n",
              "    li.append(span(file.name, {fontWeight: 'bold'}));\n",
              "    li.append(span(\n",
              "        `(${file.type || 'n/a'}) - ${file.size} bytes, ` +\n",
              "        `last modified: ${\n",
              "            file.lastModifiedDate ? file.lastModifiedDate.toLocaleDateString() :\n",
              "                                    'n/a'} - `));\n",
              "    const percent = span('0% done');\n",
              "    li.appendChild(percent);\n",
              "\n",
              "    outputElement.appendChild(li);\n",
              "\n",
              "    const fileDataPromise = new Promise((resolve) => {\n",
              "      const reader = new FileReader();\n",
              "      reader.onload = (e) => {\n",
              "        resolve(e.target.result);\n",
              "      };\n",
              "      reader.readAsArrayBuffer(file);\n",
              "    });\n",
              "    // Wait for the data to be ready.\n",
              "    let fileData = yield {\n",
              "      promise: fileDataPromise,\n",
              "      response: {\n",
              "        action: 'continue',\n",
              "      }\n",
              "    };\n",
              "\n",
              "    // Use a chunked sending to avoid message size limits. See b/62115660.\n",
              "    let position = 0;\n",
              "    do {\n",
              "      const length = Math.min(fileData.byteLength - position, MAX_PAYLOAD_SIZE);\n",
              "      const chunk = new Uint8Array(fileData, position, length);\n",
              "      position += length;\n",
              "\n",
              "      const base64 = btoa(String.fromCharCode.apply(null, chunk));\n",
              "      yield {\n",
              "        response: {\n",
              "          action: 'append',\n",
              "          file: file.name,\n",
              "          data: base64,\n",
              "        },\n",
              "      };\n",
              "\n",
              "      let percentDone = fileData.byteLength === 0 ?\n",
              "          100 :\n",
              "          Math.round((position / fileData.byteLength) * 100);\n",
              "      percent.textContent = `${percentDone}% done`;\n",
              "\n",
              "    } while (position < fileData.byteLength);\n",
              "  }\n",
              "\n",
              "  // All done.\n",
              "  yield {\n",
              "    response: {\n",
              "      action: 'complete',\n",
              "    }\n",
              "  };\n",
              "}\n",
              "\n",
              "scope.google = scope.google || {};\n",
              "scope.google.colab = scope.google.colab || {};\n",
              "scope.google.colab._files = {\n",
              "  _uploadFiles,\n",
              "  _uploadFilesContinue,\n",
              "};\n",
              "})(self);\n",
              "</script> "
            ]
          },
          "metadata": {}
        },
        {
          "output_type": "stream",
          "name": "stdout",
          "text": [
            "Saving IMDB Dataset.csv.zip to IMDB Dataset.csv.zip\n"
          ]
        }
      ],
      "source": [
        "from google.colab import files\n",
        "uploaded = files.upload()"
      ]
    },
    {
      "cell_type": "code",
      "execution_count": 29,
      "metadata": {
        "colab": {
          "base_uri": "https://localhost:8080/"
        },
        "id": "wAukwquvho4Y",
        "outputId": "80d7fbc4-22ab-42e7-a6f5-62b3db5a99dd"
      },
      "outputs": [
        {
          "output_type": "stream",
          "name": "stdout",
          "text": [
            "Archive:  IMDB Dataset.csv.zip\n",
            "  inflating: IMDB Dataset.csv        \n"
          ]
        }
      ],
      "source": [
        "!unzip \"IMDB Dataset.csv.zip\""
      ]
    },
    {
      "cell_type": "code",
      "execution_count": 30,
      "metadata": {
        "colab": {
          "base_uri": "https://localhost:8080/",
          "height": 380
        },
        "id": "EJXZizRShovf",
        "outputId": "b31ed448-774b-4f6b-b8b1-06960869feea"
      },
      "outputs": [
        {
          "output_type": "stream",
          "name": "stdout",
          "text": [
            "(50000, 2)\n"
          ]
        },
        {
          "output_type": "execute_result",
          "data": {
            "text/plain": [
              "                                              review sentiment\n",
              "0  One of the other reviewers has mentioned that ...  positive\n",
              "1  A wonderful little production. <br /><br />The...  positive\n",
              "2  I thought this was a wonderful way to spend ti...  positive\n",
              "3  Basically there's a family where a little boy ...  negative\n",
              "4  Petter Mattei's \"Love in the Time of Money\" is...  positive\n",
              "5  Probably my all-time favorite movie, a story o...  positive\n",
              "6  I sure would like to see a resurrection of a u...  positive\n",
              "7  This show was an amazing, fresh & innovative i...  negative\n",
              "8  Encouraged by the positive comments about this...  negative\n",
              "9  If you like original gut wrenching laughter yo...  positive"
            ],
            "text/html": [
              "\n",
              "  <div id=\"df-934aa70a-3c05-47d1-9b5e-d859a7a4b13d\">\n",
              "    <div class=\"colab-df-container\">\n",
              "      <div>\n",
              "<style scoped>\n",
              "    .dataframe tbody tr th:only-of-type {\n",
              "        vertical-align: middle;\n",
              "    }\n",
              "\n",
              "    .dataframe tbody tr th {\n",
              "        vertical-align: top;\n",
              "    }\n",
              "\n",
              "    .dataframe thead th {\n",
              "        text-align: right;\n",
              "    }\n",
              "</style>\n",
              "<table border=\"1\" class=\"dataframe\">\n",
              "  <thead>\n",
              "    <tr style=\"text-align: right;\">\n",
              "      <th></th>\n",
              "      <th>review</th>\n",
              "      <th>sentiment</th>\n",
              "    </tr>\n",
              "  </thead>\n",
              "  <tbody>\n",
              "    <tr>\n",
              "      <th>0</th>\n",
              "      <td>One of the other reviewers has mentioned that ...</td>\n",
              "      <td>positive</td>\n",
              "    </tr>\n",
              "    <tr>\n",
              "      <th>1</th>\n",
              "      <td>A wonderful little production. &lt;br /&gt;&lt;br /&gt;The...</td>\n",
              "      <td>positive</td>\n",
              "    </tr>\n",
              "    <tr>\n",
              "      <th>2</th>\n",
              "      <td>I thought this was a wonderful way to spend ti...</td>\n",
              "      <td>positive</td>\n",
              "    </tr>\n",
              "    <tr>\n",
              "      <th>3</th>\n",
              "      <td>Basically there's a family where a little boy ...</td>\n",
              "      <td>negative</td>\n",
              "    </tr>\n",
              "    <tr>\n",
              "      <th>4</th>\n",
              "      <td>Petter Mattei's \"Love in the Time of Money\" is...</td>\n",
              "      <td>positive</td>\n",
              "    </tr>\n",
              "    <tr>\n",
              "      <th>5</th>\n",
              "      <td>Probably my all-time favorite movie, a story o...</td>\n",
              "      <td>positive</td>\n",
              "    </tr>\n",
              "    <tr>\n",
              "      <th>6</th>\n",
              "      <td>I sure would like to see a resurrection of a u...</td>\n",
              "      <td>positive</td>\n",
              "    </tr>\n",
              "    <tr>\n",
              "      <th>7</th>\n",
              "      <td>This show was an amazing, fresh &amp; innovative i...</td>\n",
              "      <td>negative</td>\n",
              "    </tr>\n",
              "    <tr>\n",
              "      <th>8</th>\n",
              "      <td>Encouraged by the positive comments about this...</td>\n",
              "      <td>negative</td>\n",
              "    </tr>\n",
              "    <tr>\n",
              "      <th>9</th>\n",
              "      <td>If you like original gut wrenching laughter yo...</td>\n",
              "      <td>positive</td>\n",
              "    </tr>\n",
              "  </tbody>\n",
              "</table>\n",
              "</div>\n",
              "      <button class=\"colab-df-convert\" onclick=\"convertToInteractive('df-934aa70a-3c05-47d1-9b5e-d859a7a4b13d')\"\n",
              "              title=\"Convert this dataframe to an interactive table.\"\n",
              "              style=\"display:none;\">\n",
              "        \n",
              "  <svg xmlns=\"http://www.w3.org/2000/svg\" height=\"24px\"viewBox=\"0 0 24 24\"\n",
              "       width=\"24px\">\n",
              "    <path d=\"M0 0h24v24H0V0z\" fill=\"none\"/>\n",
              "    <path d=\"M18.56 5.44l.94 2.06.94-2.06 2.06-.94-2.06-.94-.94-2.06-.94 2.06-2.06.94zm-11 1L8.5 8.5l.94-2.06 2.06-.94-2.06-.94L8.5 2.5l-.94 2.06-2.06.94zm10 10l.94 2.06.94-2.06 2.06-.94-2.06-.94-.94-2.06-.94 2.06-2.06.94z\"/><path d=\"M17.41 7.96l-1.37-1.37c-.4-.4-.92-.59-1.43-.59-.52 0-1.04.2-1.43.59L10.3 9.45l-7.72 7.72c-.78.78-.78 2.05 0 2.83L4 21.41c.39.39.9.59 1.41.59.51 0 1.02-.2 1.41-.59l7.78-7.78 2.81-2.81c.8-.78.8-2.07 0-2.86zM5.41 20L4 18.59l7.72-7.72 1.47 1.35L5.41 20z\"/>\n",
              "  </svg>\n",
              "      </button>\n",
              "      \n",
              "  <style>\n",
              "    .colab-df-container {\n",
              "      display:flex;\n",
              "      flex-wrap:wrap;\n",
              "      gap: 12px;\n",
              "    }\n",
              "\n",
              "    .colab-df-convert {\n",
              "      background-color: #E8F0FE;\n",
              "      border: none;\n",
              "      border-radius: 50%;\n",
              "      cursor: pointer;\n",
              "      display: none;\n",
              "      fill: #1967D2;\n",
              "      height: 32px;\n",
              "      padding: 0 0 0 0;\n",
              "      width: 32px;\n",
              "    }\n",
              "\n",
              "    .colab-df-convert:hover {\n",
              "      background-color: #E2EBFA;\n",
              "      box-shadow: 0px 1px 2px rgba(60, 64, 67, 0.3), 0px 1px 3px 1px rgba(60, 64, 67, 0.15);\n",
              "      fill: #174EA6;\n",
              "    }\n",
              "\n",
              "    [theme=dark] .colab-df-convert {\n",
              "      background-color: #3B4455;\n",
              "      fill: #D2E3FC;\n",
              "    }\n",
              "\n",
              "    [theme=dark] .colab-df-convert:hover {\n",
              "      background-color: #434B5C;\n",
              "      box-shadow: 0px 1px 3px 1px rgba(0, 0, 0, 0.15);\n",
              "      filter: drop-shadow(0px 1px 2px rgba(0, 0, 0, 0.3));\n",
              "      fill: #FFFFFF;\n",
              "    }\n",
              "  </style>\n",
              "\n",
              "      <script>\n",
              "        const buttonEl =\n",
              "          document.querySelector('#df-934aa70a-3c05-47d1-9b5e-d859a7a4b13d button.colab-df-convert');\n",
              "        buttonEl.style.display =\n",
              "          google.colab.kernel.accessAllowed ? 'block' : 'none';\n",
              "\n",
              "        async function convertToInteractive(key) {\n",
              "          const element = document.querySelector('#df-934aa70a-3c05-47d1-9b5e-d859a7a4b13d');\n",
              "          const dataTable =\n",
              "            await google.colab.kernel.invokeFunction('convertToInteractive',\n",
              "                                                     [key], {});\n",
              "          if (!dataTable) return;\n",
              "\n",
              "          const docLinkHtml = 'Like what you see? Visit the ' +\n",
              "            '<a target=\"_blank\" href=https://colab.research.google.com/notebooks/data_table.ipynb>data table notebook</a>'\n",
              "            + ' to learn more about interactive tables.';\n",
              "          element.innerHTML = '';\n",
              "          dataTable['output_type'] = 'display_data';\n",
              "          await google.colab.output.renderOutput(dataTable, element);\n",
              "          const docLink = document.createElement('div');\n",
              "          docLink.innerHTML = docLinkHtml;\n",
              "          element.appendChild(docLink);\n",
              "        }\n",
              "      </script>\n",
              "    </div>\n",
              "  </div>\n",
              "  "
            ]
          },
          "metadata": {},
          "execution_count": 30
        }
      ],
      "source": [
        "imdb_df=pd.read_csv('IMDB Dataset.csv')\n",
        "print(imdb_df.shape)\n",
        "imdb_df.head(10)"
      ]
    },
    {
      "cell_type": "code",
      "execution_count": 31,
      "metadata": {
        "colab": {
          "base_uri": "https://localhost:8080/"
        },
        "id": "oUvOf10EsQSj",
        "outputId": "41f4eeaf-09c0-4324-869c-cd582e8828af"
      },
      "outputs": [
        {
          "output_type": "execute_result",
          "data": {
            "text/plain": [
              "positive    25000\n",
              "negative    25000\n",
              "Name: sentiment, dtype: int64"
            ]
          },
          "metadata": {},
          "execution_count": 31
        }
      ],
      "source": [
        "imdb_df['sentiment'].value_counts()"
      ]
    },
    {
      "cell_type": "markdown",
      "metadata": {
        "id": "DcQyHNdxhobo"
      },
      "source": [
        "Podemos ver que tenemos dos variables, una con el texto del review, y otra con la categoría, también textual, con dos valores posibles (\"positive\" y \"negative\")."
      ]
    },
    {
      "cell_type": "markdown",
      "metadata": {
        "id": "CDBcCEDnsh28"
      },
      "source": [
        "Vamos a separar el dataset aleatoriamente en 3 tensores:\n",
        "- un dataset de entrenamiento con 25000 instancias\n",
        "- un dataset de validación con 5000 instancias\n",
        "- un dataset de test con 20000 instancias"
      ]
    },
    {
      "cell_type": "code",
      "execution_count": 32,
      "metadata": {
        "id": "7AXL8RCM0ov5"
      },
      "outputs": [],
      "source": [
        "X_train, X_test, y_train, y_test = train_test_split(imdb_df.iloc[:,0], imdb_df.iloc[:,1], test_size=0.5, random_state=42)\n",
        "X_val, X_test, y_val, y_test = train_test_split(X_test, y_test, test_size=0.8, random_state=42)"
      ]
    },
    {
      "cell_type": "code",
      "execution_count": 33,
      "metadata": {
        "colab": {
          "base_uri": "https://localhost:8080/"
        },
        "id": "uSAivNQB1JaS",
        "outputId": "e65b3096-c483-40c0-a849-64428df660f4"
      },
      "outputs": [
        {
          "output_type": "stream",
          "name": "stdout",
          "text": [
            "(25000,) (5000,) (20000,)\n"
          ]
        }
      ],
      "source": [
        "print(X_train.shape, X_val.shape, X_test.shape)"
      ]
    },
    {
      "cell_type": "markdown",
      "metadata": {
        "id": "p3jecVkq2F_3"
      },
      "source": [
        "Para poder tratar los textos en un modelo de redes neuronales con tensores, deben ser vectorizados, representados numéricamente. Vamos a recorrer todos los reviews del train set y por cada uno aplicaremos dos operaciones: \n",
        "- Primero vamos a convertir los textos en tokens, utilizando la función `tokenizer` previamente definida.\n",
        "- Luego, utilizaremos una instancia de `Counter` para realizar un mapeo entre cada token y su número de ocurrencias. Cada review procesado va a ir actualizando (con el método `update`) el conteo de cada token encontrado."
      ]
    },
    {
      "cell_type": "code",
      "execution_count": 34,
      "metadata": {
        "colab": {
          "base_uri": "https://localhost:8080/"
        },
        "id": "LZbK5v052F_3",
        "outputId": "c0856d6f-0c92-4c7e-9c5d-fd200269a33d"
      },
      "outputs": [
        {
          "output_type": "stream",
          "name": "stdout",
          "text": [
            "Vocab-size: 77813\n"
          ]
        }
      ],
      "source": [
        "token_counts = Counter()\n",
        "for line in X_train:\n",
        "    tokens = tokenizer(line)\n",
        "    token_counts.update(tokens)\n",
        "print('Vocab-size:', len(token_counts))"
      ]
    },
    {
      "cell_type": "code",
      "execution_count": 35,
      "metadata": {
        "colab": {
          "base_uri": "https://localhost:8080/"
        },
        "id": "tuHe7kDRKRVt",
        "outputId": "2e2ea1dd-3c1e-4fc8-fb0b-d0ac639b8c6d"
      },
      "outputs": [
        {
          "output_type": "execute_result",
          "data": {
            "text/plain": [
              "[('the', 332802),\n",
              " ('and', 161543),\n",
              " ('a', 160728),\n",
              " ('of', 144359),\n",
              " ('to', 133913),\n",
              " ('is', 105297),\n",
              " ('it', 95931),\n",
              " ('in', 92600),\n",
              " ('i', 88227),\n",
              " ('this', 75545)]"
            ]
          },
          "metadata": {},
          "execution_count": 35
        }
      ],
      "source": [
        "token_counts.most_common()[:10]"
      ]
    },
    {
      "cell_type": "markdown",
      "metadata": {
        "id": "Y-UL9qyHKtAq"
      },
      "source": [
        "Los tokens con mayor frecuencia están al principio del vocabulario, por lo que palabras como \"the\", \"it\", \"to\", \"of\", están mapeados con números más pequeños."
      ]
    },
    {
      "cell_type": "markdown",
      "metadata": {
        "id": "I-cT-5MqJzkc"
      },
      "source": [
        "Ahora que ya conocemos los tokens presentes en el dataset de entrenamiento (que incluyen palabras y emoticones), vamos a codificarlos, asociando un entero a cada uno, primero a partir de un `OrderedDict`, que luego lo usamos como base de creación de un **vocabulario**, al que le agregamos los dos tokens reservados especiales de *padding* y *unknown*."
      ]
    },
    {
      "cell_type": "code",
      "execution_count": 36,
      "metadata": {
        "id": "UqI1EtthJzkc"
      },
      "outputs": [],
      "source": [
        "sorted_by_freq_tuples = sorted(token_counts.items(), key=lambda x: x[1], reverse=True)\n",
        "ordered_dict = OrderedDict(sorted_by_freq_tuples)\n",
        "vocabulario = vocab(ordered_dict)\n",
        "vocabulario.insert_token(\"<pad>\", 0)\n",
        "vocabulario.insert_token(\"<unk>\", 1)\n",
        "vocabulario.set_default_index(1)"
      ]
    },
    {
      "cell_type": "markdown",
      "source": [
        "El vocabulario permite obtener el índice para cada string token y viceversa con los métodos `get_stoi()` y `get_itos()`, respectivamente."
      ],
      "metadata": {
        "id": "tJQg0d2Mjlhw"
      }
    },
    {
      "cell_type": "markdown",
      "metadata": {
        "id": "e8R-XJw9Jzkc"
      },
      "source": [
        "Ya con el vocabulario creado, podemos \"traducir\" (**tokenizar**) los reviews en secuencias de tokens."
      ]
    },
    {
      "cell_type": "code",
      "execution_count": 37,
      "metadata": {
        "colab": {
          "base_uri": "https://localhost:8080/"
        },
        "id": "nQt58bgNJzkc",
        "outputId": "0bc22fee-d311-47af-c4d6-8420984c029c"
      },
      "outputs": [
        {
          "output_type": "execute_result",
          "data": {
            "text/plain": [
              "[8, 14, 82, 6, 66, 49, 5, 59, 513, 402, 5, 995, 156, 559]"
            ]
          },
          "metadata": {},
          "execution_count": 37
        }
      ],
      "source": [
        "text_pipeline(\"It was great to see some of my favorite stars of 30 years ago\")"
      ]
    },
    {
      "cell_type": "markdown",
      "metadata": {
        "id": "VZM8eNHpmQs7"
      },
      "source": [
        "También es necesario modificar los valores de las etiquetas, definimos una función `transform_lable` que transforme las etiquetas \"positive\" y \"negative\" a valores de 1.0 y 0.0, respectivamente."
      ]
    },
    {
      "cell_type": "code",
      "execution_count": 38,
      "metadata": {
        "id": "1PdkiOcomQlI"
      },
      "outputs": [],
      "source": [
        "label_pipeline = lambda x: 1. if x == \"positive\" else 0."
      ]
    },
    {
      "cell_type": "code",
      "execution_count": 39,
      "metadata": {
        "colab": {
          "base_uri": "https://localhost:8080/"
        },
        "id": "kZi7lRIImQd1",
        "outputId": "89ec5621-f059-49a7-8fd8-9ed600015333"
      },
      "outputs": [
        {
          "output_type": "stream",
          "name": "stdout",
          "text": [
            "positive --> 1.0\n",
            "negative --> 0.0\n"
          ]
        }
      ],
      "source": [
        "print(f\"positive --> {label_pipeline('positive')}\")\n",
        "print(f\"negative --> {label_pipeline('negative')}\")"
      ]
    },
    {
      "cell_type": "markdown",
      "metadata": {
        "id": "D3SmY3YPxWZS"
      },
      "source": [
        "Vamos a crear un objeto `Dataset` muy simple que recibe los reviews y calificaciones en su versión original (como cadenas de caracteres). La **tokenización** la realizaremos al crear el `DataLoader`. Creamos las instancias de los tres datasets."
      ]
    },
    {
      "cell_type": "code",
      "execution_count": 40,
      "metadata": {
        "id": "NKCxHGKhxWQy"
      },
      "outputs": [],
      "source": [
        "class MyDataset(Dataset):\n",
        "    def __init__(self, X, y):\n",
        "        self.X=X.tolist()\n",
        "        self.y=y.tolist()\n",
        " \n",
        "    def __len__(self):\n",
        "        return len(self.y)\n",
        "\n",
        "    def __getitem__(self,idx):\n",
        "        return self.X[idx], self.y[idx]"
      ]
    },
    {
      "cell_type": "code",
      "execution_count": 41,
      "metadata": {
        "id": "qUGI58FNzeHB"
      },
      "outputs": [],
      "source": [
        "train_dataset = MyDataset(X_train, y_train)\n",
        "val_dataset = MyDataset(X_val, y_val)\n",
        "test_dataset = MyDataset(X_test, y_test)"
      ]
    },
    {
      "cell_type": "markdown",
      "metadata": {
        "id": "mPipzxIrv_-I"
      },
      "source": [
        "Vamos a crear un `DataLoader` para cada dataset, en el que aplicaremos una función que llamaremos `collate_batch` al batch que retorna el loader. Dentro de ella, utilizaremos las dos funciones `text_pipeline` y `label_pipeline`, para producir los batches en representación numérica tokenizada.\n",
        "\n",
        "Esta función recibe un batch del `Dataset` con los dos componentes originales (label y texto), y devuelve una tripleta con:\n",
        "- las secuencias de tokens correspondientes a los textos de las reviews del batch\n",
        "- las etiquetas de clasificación de cada review del batch\n",
        "- los largos de las secuencias originales\n",
        "\n",
        "Las secuencias de tokens se van a \"paddear\" teniendo en cuenta el largo de la secuencia más larga del batch. Para esto se utiliza la función `nn.utils.rnn.pad_sequence`."
      ]
    },
    {
      "cell_type": "code",
      "execution_count": 42,
      "metadata": {
        "id": "3wAx-KPKtRcw"
      },
      "outputs": [],
      "source": [
        "def collate_batch(batch):\n",
        "    label_list, text_list, lengths = [], [], []\n",
        "    for _text, _label in batch:\n",
        "        label_list.append(label_pipeline(_label))\n",
        "        processed_text = torch.tensor(text_pipeline(_text), \n",
        "                                      dtype=torch.int64)\n",
        "        text_list.append(processed_text)\n",
        "        lengths.append(processed_text.size(0))\n",
        "    label_list = torch.tensor(label_list)\n",
        "    lengths = torch.tensor(lengths)\n",
        "    padded_text_list = nn.utils.rnn.pad_sequence(\n",
        "        text_list, batch_first=True)\n",
        "    return padded_text_list.to(DEVICE), label_list.to(DEVICE), lengths.to(DEVICE)"
      ]
    },
    {
      "cell_type": "markdown",
      "metadata": {
        "id": "Muhfq7LG2D1I"
      },
      "source": [
        "Creamos un loader que producirá batches de 4 instancias (para poder ilustrar fácilmente el funcionamiento del pretratamiento)."
      ]
    },
    {
      "cell_type": "code",
      "execution_count": 43,
      "metadata": {
        "id": "sLnDUwQ8UW-t"
      },
      "outputs": [],
      "source": [
        "dataloader = DataLoader(train_dataset, batch_size=4, shuffle=False, collate_fn=collate_batch)"
      ]
    },
    {
      "cell_type": "code",
      "execution_count": 44,
      "metadata": {
        "id": "sDPWMdSTzxqE"
      },
      "outputs": [],
      "source": [
        "(text_batch, label_batch, length_batch) = next(iter(dataloader))"
      ]
    },
    {
      "cell_type": "code",
      "execution_count": 45,
      "metadata": {
        "colab": {
          "base_uri": "https://localhost:8080/"
        },
        "id": "HorhST9n1o7y",
        "outputId": "b9703318-d498-404c-8fec-9f993c668dbf"
      },
      "outputs": [
        {
          "output_type": "stream",
          "name": "stdout",
          "text": [
            "Estructura de un batch\n",
            "  Secuencias de tokens (torch.Size([4, 569])): tensor([[10293,     7,   424,  ...,     0,     0,     0],\n",
            "        [ 1247,   130,     8,  ...,     0,     0,     0],\n",
            "        [ 2023,    10,   236,  ...,    30,  1162,   385],\n",
            "        [ 2431,   317,  8742,  ...,     0,     0,     0]], device='cuda:0')\n",
            "  Etiquetas (torch.Size([4])): tensor([0., 0., 1., 0.], device='cuda:0')\n",
            "  Largos originales (torch.Size([4])): tensor([360, 187, 569, 149], device='cuda:0')\n"
          ]
        }
      ],
      "source": [
        "print(\"Estructura de un batch\")\n",
        "print(f\"  Secuencias de tokens ({text_batch.shape}): {text_batch}\")\n",
        "print(f\"  Etiquetas ({label_batch.shape}): {label_batch}\")\n",
        "print(f\"  Largos originales ({length_batch.shape}): {length_batch}\")"
      ]
    },
    {
      "cell_type": "markdown",
      "metadata": {
        "id": "bDEQYI271oxs"
      },
      "source": [
        "Podemos ver que las secuencias de tokens están padeadas al final (tokens con ID 0), aunque hay una en particular que no tiene padding, pues es la mas larga del batch, y su largo original corresponde al largo de las secuencias padeadas."
      ]
    },
    {
      "cell_type": "markdown",
      "metadata": {
        "id": "EWOw74b41onv"
      },
      "source": [
        "Para finalizar vamos a crear 3 dataloaders, para training, validation y test."
      ]
    },
    {
      "cell_type": "code",
      "execution_count": 46,
      "metadata": {
        "id": "aNcq6Exq1oeX"
      },
      "outputs": [],
      "source": [
        "batch_size = 32\n",
        "train_dl = DataLoader(train_dataset, batch_size=batch_size, shuffle=True, collate_fn=collate_batch)\n",
        "val_dl = DataLoader(val_dataset, batch_size=batch_size, shuffle=False, collate_fn=collate_batch)\n",
        "test_dl = DataLoader(test_dataset, batch_size=batch_size, shuffle=False, collate_fn=collate_batch)"
      ]
    },
    {
      "cell_type": "markdown",
      "metadata": {
        "id": "js_6BAkd6V_F"
      },
      "source": [
        "# 3. Vectorización de los textos"
      ]
    },
    {
      "cell_type": "markdown",
      "metadata": {
        "id": "VLPQ6UJEmaFy"
      },
      "source": [
        "Después de tener una representación de las secuencias en tokens categóricos (proceso de **tokenización**). \n",
        "Es necesario ahora establecer un representación numérica de las palabras para poder ser procesadas por modelos de redes neuronales; que una palabra no sea un ID categórico (token) sin un orden determinado (o determinado por su frecuencia), sino un punto en un espacio multidimensional (un tensor, proceso de **vectorización**). Las dos aproximaciones para esta tarea son:\n",
        "- **One hot encoding**: se utiliza un espacio de representación donde cada dimensión corresponde a uno de los posibles términos que se pueden encontrar en las secuencias. Cada término en una secuencia es entonces representado como un vector de muchísimos 0s, salvo por la dimensión que corresponde al término en sí (datos muy dispersos). Esto crea problemas, pues este espacio es bastante disperso (muy pocos 1s), de muy alta dimensionalidad, sufriendo la \"maldición de la dimensionalidad\", y codificado \"en duro\" (la posición de cada término sigue un proceso arbitrario no basado en los datos en sí, más allá del determinado por la frecuencia de cada token)\n",
        "- **Embedding**: se utiliza un espacio de representación de dimensionalidad reducida (mucho menor al número de tokens del vocabulario), cuyo espacio está basado en una estructura estadística de la representación de los términos encontrados en las secuencias. En el caso de texto, la información de las relaciones de coocurrencia de las palabras se conserva a través de la distancia en el nuevo espacio de representación aprendido. Aquí la representación de cada token permite codificar también su **semántica**."
      ]
    },
    {
      "cell_type": "markdown",
      "metadata": {
        "id": "XvA4RpVWTygh"
      },
      "source": [
        "La **vectorización** a partir del método de **embeddings** es preferida, al hacer reducción de dimensionalidad, y al servir como proceso de extracción de features. Las secuencias de tokens categóricos originales (tensores de rango 1) son entonces transformadas en tensores numéricos de rango 2: un eje para cada término de la secuencia, otro para el espacio de representación de cada término en *embedding_dim* dimensiones.\n",
        "\n",
        "Además de los tokens de términos textuales, los tokens especiales de palabras desconocidas \\<unk\\> y de padding \\<pad\\> también tendrán su representación en el espacio dimensional de embedding, pues deberán ser tratados por las redes neuronales."
      ]
    },
    {
      "cell_type": "markdown",
      "metadata": {
        "id": "gSdvkoeNcKS3"
      },
      "source": [
        "Las dos maneras de usar los word embeddings son:\n",
        "\n",
        "- Aprendizaje: Se aprende el espacio de representación al mismo tiempo que la tarea principal (predicción de sentimiento, clasificación de documento). En este caso, se parte de un vector de representación aleatorio, que es actualizado a medida que que se actualizan los pesos de la red neuronal durante el aprendizaje.\n",
        "- Transfer learning: Se descarga una representación precomputada por un tercero. Se trata de word embeddings pre entrenados, usando algún otro proceso de machine learning, diferente al que se está tratando de resolver, aunque relacionado."
      ]
    },
    {
      "cell_type": "markdown",
      "metadata": {
        "id": "prlPWsSqZYTF"
      },
      "source": [
        "En Pytorch, se utiliza la clase `nn.Embedding`, que es una simple tabla de correspondencia (como un diccionario) entre tokens numéricos (índices empezando en 0) y puntos vectoriales en el espacio del embedding.\n",
        "Para crear una instancia se requiere la especificación de los siguientes parámetros (entre otros):\n",
        "- `num_embeddings`: tamaño del diccionario, debe ser mayor al número de tokens (incluidos los especiales).\n",
        "- `embedding_dim`: tamaño de los vectores de representación.\n",
        "- `padding_idx`: índice del token de padding, por defecto es *None*. Este token no se actualiza durante el entrenamiento, ni contribuye al gradiente.\n"
      ]
    },
    {
      "cell_type": "markdown",
      "metadata": {
        "id": "Gi2Qm_AITDpX"
      },
      "source": [
        "Vamos a crear un nuevo Embedding sencillo, de 10 entradas (tokens), que asocia vectores aleatorios de dimensionalidad 3 a cada token normal, y un vector de 0s al token de padding."
      ]
    },
    {
      "cell_type": "code",
      "execution_count": null,
      "metadata": {
        "id": "7iYEluiAdDbP"
      },
      "outputs": [],
      "source": [
        "embedding = nn.Embedding(\n",
        "    num_embeddings=10,\n",
        "    embedding_dim=3,\n",
        "    padding_idx=0)"
      ]
    },
    {
      "cell_type": "code",
      "execution_count": null,
      "metadata": {
        "colab": {
          "base_uri": "https://localhost:8080/"
        },
        "id": "_s03xBe4fe2x",
        "outputId": "295dd278-00bd-4742-a81b-01bfb6feb8d5"
      },
      "outputs": [
        {
          "data": {
            "text/plain": [
              "Parameter containing:\n",
              "tensor([[ 0.0000,  0.0000,  0.0000],\n",
              "        [-0.4514, -0.5918, -0.0180],\n",
              "        [ 0.9769,  0.0398,  0.2782],\n",
              "        [ 1.7969,  0.8506, -1.1664],\n",
              "        [-0.8889, -0.4585,  1.5537],\n",
              "        [-0.0930,  0.9984,  0.3493],\n",
              "        [-0.8350,  0.2019, -1.0241],\n",
              "        [-0.5975, -0.1488, -0.6798],\n",
              "        [-2.1567, -0.0854,  1.0332],\n",
              "        [-0.6603, -0.1085,  0.1124]], requires_grad=True)"
            ]
          },
          "execution_count": 49,
          "metadata": {},
          "output_type": "execute_result"
        }
      ],
      "source": [
        "embedding.weight"
      ]
    },
    {
      "cell_type": "markdown",
      "metadata": {
        "id": "5fX2HiabfeuN"
      },
      "source": [
        "Es importante entender que por ahora el embedding no se ha entrenado, solo contiene los valores iniciales que se tendrán que modificar durante el entrenamiento de una tarea supervisada.\n",
        "\n",
        "Podemos de todas formas codificar secuencias de tokens. Un embedding recibe un tensor de rango 2, con el primer eje dedicado a las instancias y el segundo eje a las secuencias (que ya han sido paddeadas)."
      ]
    },
    {
      "cell_type": "code",
      "execution_count": null,
      "metadata": {
        "colab": {
          "base_uri": "https://localhost:8080/"
        },
        "id": "FTLSCortTDhu",
        "outputId": "52929718-d186-4161-b82f-fa920e91a97d"
      },
      "outputs": [
        {
          "name": "stdout",
          "output_type": "stream",
          "text": [
            "tensor([[[-0.4514, -0.5918, -0.0180],\n",
            "         [ 0.9769,  0.0398,  0.2782],\n",
            "         [-0.8889, -0.4585,  1.5537],\n",
            "         [-0.0930,  0.9984,  0.3493]],\n",
            "\n",
            "        [[-0.8889, -0.4585,  1.5537],\n",
            "         [ 1.7969,  0.8506, -1.1664],\n",
            "         [ 0.9769,  0.0398,  0.2782],\n",
            "         [ 0.0000,  0.0000,  0.0000]]], grad_fn=<EmbeddingBackward0>)\n"
          ]
        }
      ],
      "source": [
        "text_encoded_input = torch.LongTensor([[1,2,4,5],[4,3,2,0]])\n",
        "print(embedding(text_encoded_input))"
      ]
    },
    {
      "cell_type": "markdown",
      "metadata": {
        "id": "V3Bmr596TDaj"
      },
      "source": [
        "Podemos ver que el tensor original de rango 2, donde cada instancia es una secuencia de cuatro token IDs, fue transformado a un tensor de rango 3, con:\n",
        "- un primer eje del batch, con las instancias\n",
        "- un segundo eje de la secencia, con cada elemento textual\n",
        "- un tercer eje con la representación vectorial de cada token\n",
        "\n",
        "Podemos además comprobar que los vectores de representación corresponden a los índices de los tokens en la matriz de embedding."
      ]
    },
    {
      "cell_type": "markdown",
      "metadata": {
        "id": "7IiFo6ei6Vut"
      },
      "source": [
        "# 4. Modelo recurrente de análisis de sentimiento"
      ]
    },
    {
      "cell_type": "markdown",
      "metadata": {
        "id": "j8q7YwYs6VmX"
      },
      "source": [
        "El **embedding** anterior tiene codificaciones por defecto resultado de una inicialización aleatoria de los valores del espacio vectorial. Para que esta representación sea efectiva, se debe entrenar, incluyéndola como parte inicial del modelo, dada una tarea de clasificación o regresión.\n",
        "\n",
        "El modelo que vamos a definir a continuación tiene la siguiente arquitectura:\n",
        "- Tiene una capa de `embedding` inicial de vectorización de los tokens del texto de cada instancia. Se debe especificar el tamaño del vocabulario y el número de dimensiones de representación (el token de padding se establece con el índice 0)\n",
        "- El resultado codificado de cada secuencia de tokens es luego recibido como input de una capa recurrente `LSTM`. Recibe representaciones de los tokens en el número de dimensiones que produce la capa de `Embedding` anterior. Se debe establecer el número de células recurrentes de esta capa, cada una de ellas se ocupará de encontrar diferentes patrones.\n",
        "- El resultado de la capa recurrente se pasa por dos capas `Linear` con el mismo número de neuronas (a especificar), conectadas entre ellas, con una función de activación `ReLU` entre ellas. \n",
        "- Después de la última capa densa lineal, se pasa el resultado por una función de activación `Sigmoid` que permitirá realizar la clasificación binaria.\n"
      ]
    },
    {
      "cell_type": "markdown",
      "metadata": {
        "id": "a7GZoamGhzW7"
      },
      "source": [
        "Es importante remarcar que en el método `forward` no solo se recibe el batch de textos codificados, sino también los largos de ellos, ya que necesita modificar las secuencias de tokens del batch para que todas tengan el mismo largo."
      ]
    },
    {
      "cell_type": "code",
      "execution_count": 47,
      "metadata": {
        "id": "CYYoeBGO6Vdz"
      },
      "outputs": [],
      "source": [
        "class SentimentAnalysisModel(nn.Module):\n",
        "    def __init__(self, vocab_size, embed_dim, rnn_hidden_size, fc_hidden_size):\n",
        "        super().__init__()\n",
        "        self.embedding = nn.Embedding(vocab_size, \n",
        "                                      embed_dim, \n",
        "                                      padding_idx=0) \n",
        "        self.rnn = nn.LSTM(embed_dim, rnn_hidden_size, \n",
        "                           batch_first=True)\n",
        "        self.fc1 = nn.Linear(rnn_hidden_size, fc_hidden_size)\n",
        "        self.relu = nn.ReLU()\n",
        "        self.fc2 = nn.Linear(fc_hidden_size, 1)\n",
        "        self.sigmoid = nn.Sigmoid()\n",
        "\n",
        "    def forward(self, text, lengths):\n",
        "        out = self.embedding(text)\n",
        "        out = nn.utils.rnn.pack_padded_sequence(out, lengths.cpu().numpy(), enforce_sorted=False, batch_first=True)\n",
        "        out, (hidden, cell) = self.rnn(out)\n",
        "        out = hidden[-1, :, :]\n",
        "        out = self.fc1(out)\n",
        "        out = self.relu(out)\n",
        "        out = self.fc2(out)\n",
        "        out = self.sigmoid(out)\n",
        "        return out"
      ]
    },
    {
      "cell_type": "markdown",
      "metadata": {
        "id": "87ZYaW5RVmDs"
      },
      "source": [
        "Instanciamos el modelo de análisis de sentimiento, estableciendo:\n",
        "- el tamaño del vocabulario igual al número de tokens ya encontrado en el training set\n",
        "- las dimensiones del embedding. Cada token se representa por un vector de 20 valores.\n",
        "- el número de células recurrentes (64)\n",
        "- el número de neuronas de las 2 capas recurrentes (64)"
      ]
    },
    {
      "cell_type": "code",
      "execution_count": 49,
      "metadata": {
        "id": "yohPrheK6VWV"
      },
      "outputs": [],
      "source": [
        "vocab_size = len(vocabulario)\n",
        "embed_dim = 20\n",
        "rnn_hidden_size = 64\n",
        "fc_hidden_size = 64\n",
        "\n",
        "torch.manual_seed(1)\n",
        "modelo = SentimentAnalysisModel(vocab_size, embed_dim, rnn_hidden_size, fc_hidden_size) \n",
        "modelo = modelo.to(DEVICE)"
      ]
    },
    {
      "cell_type": "code",
      "execution_count": 50,
      "metadata": {
        "colab": {
          "base_uri": "https://localhost:8080/"
        },
        "id": "3ti8x5ibWSyk",
        "outputId": "59ee2352-5817-4bc3-9ac7-86b0a646af22"
      },
      "outputs": [
        {
          "output_type": "execute_result",
          "data": {
            "text/plain": [
              "SentimentAnalysisModel(\n",
              "  (embedding): Embedding(77815, 20, padding_idx=0)\n",
              "  (rnn): LSTM(20, 64, batch_first=True)\n",
              "  (fc1): Linear(in_features=64, out_features=64, bias=True)\n",
              "  (relu): ReLU()\n",
              "  (fc2): Linear(in_features=64, out_features=1, bias=True)\n",
              "  (sigmoid): Sigmoid()\n",
              ")"
            ]
          },
          "metadata": {},
          "execution_count": 50
        }
      ],
      "source": [
        "modelo"
      ]
    },
    {
      "cell_type": "code",
      "execution_count": null,
      "metadata": {
        "colab": {
          "base_uri": "https://localhost:8080/"
        },
        "id": "K1iG9tD_WSpo",
        "outputId": "ea576256-1a77-4ae1-8457-bdc199dbbf83"
      },
      "outputs": [
        {
          "output_type": "stream",
          "name": "stdout",
          "text": [
            "embedding.weight torch.Size([77815, 20])\n",
            "rnn.weight_ih_l0 torch.Size([256, 20])\n",
            "rnn.weight_hh_l0 torch.Size([256, 64])\n",
            "rnn.bias_ih_l0 torch.Size([256])\n",
            "rnn.bias_hh_l0 torch.Size([256])\n",
            "fc1.weight torch.Size([64, 64])\n",
            "fc1.bias torch.Size([64])\n",
            "fc2.weight torch.Size([1, 64])\n",
            "fc2.bias torch.Size([1])\n"
          ]
        }
      ],
      "source": [
        "for key, value in modelo.named_parameters():\n",
        "    print(key, value.shape)"
      ]
    },
    {
      "cell_type": "markdown",
      "metadata": {
        "id": "obd7VCiqWShC"
      },
      "source": [
        "Los parámetros a entrenar del modelo son:\n",
        "- una matriz de número de tokens \\* embedding_dim (tenemos 77815 tokens, cada uno representado por un vector de 20 dimensiones).\n",
        "- una matriz para las conexiones de entrada de la capa LSTM para las 64 células. Cada Célula tiene 4 matrices (forget, input, candidato, output), y definimos una capa con 64 células recurrentes, por lo que son matrices 64*4=256 por las 20 entradas de las dimensiones del embedding.\n",
        "- los vectores de sesgo de entrada a las LSTM, con 64*4 parámetros.\n",
        "- una matriz para las conexiones recurrentes de la capa LSTM para las 64 células. Cada Célula tiene 4 matrices (forget, input, candidato, output), y definimos una capa con 64 células recurrentes, por lo que son matrices 64*4=256 por los 64 hidden values recurrentes.\n",
        "- los vectores de sesgo de las conexiones recurrentes, con 64*4 parámetros.\n",
        "- una matriz de la primera capa densa de 64 neuronas, que se conecta con las 64 celdas recurrentes.\n",
        "- los 64 sesgos de la primera capa densa.\n",
        "- una matriz de la última capa densa con la única neurona de salida, que se conecta con las 64 neuronas de la capa densa anterior.\n",
        "- el único sesgo de la capa de salida."
      ]
    },
    {
      "cell_type": "markdown",
      "metadata": {
        "id": "oAAISA5qF3oU"
      },
      "source": [
        "Procesemos un batch a través del modelo, recordemos que tenemos en el data loader 3 componentes: features, labels, lengths\n",
        "\n",
        "El modelo recibe en el método forward los features y los lengths (para hacer el padding de las secuencias), y retorna un tensor de rango 2 con las predicciones, con el eje 1 para los batches y el eje 2 para los valores de cada batch.\n",
        "\n",
        "Si queremos acceder al array de valores, es entonces necesario acceder a la primera (y única posición) del eje de batches (\\[; 0\\])"
      ]
    },
    {
      "cell_type": "code",
      "execution_count": null,
      "metadata": {
        "colab": {
          "base_uri": "https://localhost:8080/"
        },
        "id": "BxfNLPTHVmca",
        "outputId": "a97a6099-88ae-4970-8b13-89ce4c847d05"
      },
      "outputs": [
        {
          "name": "stdout",
          "output_type": "stream",
          "text": [
            "torch.Size([32, 1])\n",
            "tensor([0.4779, 0.4694, 0.4722, 0.4692, 0.4672, 0.4741, 0.4676, 0.4711, 0.4750,\n",
            "        0.4616, 0.4672, 0.4704, 0.4650, 0.4686, 0.4777, 0.4734, 0.4708, 0.4723,\n",
            "        0.4652, 0.4764, 0.4701, 0.4742, 0.4676, 0.4671, 0.4654, 0.4691, 0.4677,\n",
            "        0.4657, 0.4713, 0.4704, 0.4656, 0.4711], device='cuda:0',\n",
            "       grad_fn=<SelectBackward0>)\n"
          ]
        }
      ],
      "source": [
        "batch_features, batch_labels, batch_lengths = next(iter(train_dl))\n",
        "preds = modelo(batch_features, batch_lengths)\n",
        "print(preds.shape)\n",
        "print(preds[:,0])"
      ]
    },
    {
      "cell_type": "markdown",
      "metadata": {
        "id": "yNDWAh_-WSYL"
      },
      "source": [
        "Definimos ahora una función de entrenamiento de la red, que recibe el dataloader."
      ]
    },
    {
      "cell_type": "code",
      "execution_count": 51,
      "metadata": {
        "id": "cMflXTOCTkZy"
      },
      "outputs": [],
      "source": [
        "def train_model_sentiment(modelo, train_loader, val_loader, learning_rate=1e-3, early_stopping_loss_val_patience=-1, epocas=10, verbose=False):\n",
        "    \"\"\"Se encarga de realizar el ciclo de épocas de entrenamiento de un modelo de forecasting.\n",
        "\n",
        "    :modelo:\n",
        "        instancia creada del modelo a entrenar\n",
        "    :train_loader:\n",
        "        instancia de DataLoader con los datos de entrenamiento preparados en batches\n",
        "    :val_loader:\n",
        "        instancia de DataLoader con los datos de validación preparados en batches\n",
        "    :learning_rate:\n",
        "        learning rate del optimizador.\n",
        "    :early_stopping_loss_val_patience:\n",
        "        número de épocas de paciencia a esperar una mejora del val loss antes de suspender el entrenamiento. -1 implica que no se aplica\n",
        "    :epocas:\n",
        "        número de iteraciones de entrenamiento sobre el dataset completo\n",
        "    :verbose:\n",
        "        indica si se quiere imprimr el avance del proceso o no\n",
        "    :returns:\n",
        "        el modelo entrenado y 4 arrays con los valores de losses y accuracies del training dataset, y los losses y accuracies del val set después de cada época\n",
        "    \"\"\"\n",
        "\n",
        "    torch.manual_seed(42)\n",
        "\n",
        "    # Se crea el modelo y optimizador\n",
        "    modelo = modelo.to(DEVICE) # situar el modelo en el dispositivo de procesamiento\n",
        "    loss_fn = nn.BCELoss() # se usa una función de pérdida para la clasificación binaria, teniendo en cuenta la salida sigmoide del modelo\n",
        "    optimizer = torch.optim.Adam(modelo.parameters(), lr=learning_rate)\n",
        "\n",
        "    # variables utilizadas por el early stopping\n",
        "    min_loss = np.Inf\n",
        "    best_model = None\n",
        "    num_epocas_patience = 0\n",
        "\n",
        "    # Creamos vectores donde almacenaremos los losses y métricas después de cada época\n",
        "    train_losses = [0] * epocas\n",
        "    train_accuracies = [0] * epocas\n",
        "    val_losses = [0] * epocas\n",
        "    val_accuracies = [0] * epocas\n",
        "\n",
        "    for epoca in range(epocas):\n",
        "        epoca_start_time = time.time()\n",
        "        modelo.train()\n",
        "\n",
        "        for i, (batch_features, batch_labels, batch_lengths) in enumerate(train_loader):\n",
        "            # Nos aseguramos que los inputs del modelo estén en el mismo dispositivo\n",
        "            batch_features = batch_features.to(DEVICE)\n",
        "            batch_labels = batch_labels.to(DEVICE)\n",
        "            # Generar las predicciones\n",
        "            batch_preds = modelo(batch_features, batch_lengths)[:, 0] \n",
        "            # Solo nos quedamos con los outputs del último token de la secuencia\n",
        "            # Comparar con las realidades a partir del loss function\n",
        "            loss = loss_fn(batch_preds, batch_labels)\n",
        "            # Calcular los gradientes de la función de pérdida\n",
        "            loss.backward()\n",
        "            # Actualizar parámetros con los gradientes\n",
        "            optimizer.step()\n",
        "            # Resetear los gradientes para no reacumularlos\n",
        "            optimizer.zero_grad()\n",
        "            # se acumulan los losses de la epoca (ponderados por el tamaño del batch)\n",
        "            train_losses[epoca] += loss.item() * batch_labels.size(0)\n",
        "            # se determinan las predicciones correctas del batch en curso\n",
        "            correctos = (batch_preds.gt(0.5).type(torch.float) == batch_labels)\n",
        "            #print(f\"{i}\")\n",
        "            #print(f\"  batch_preds: {batch_preds}\")\n",
        "            #print(f\"  labels: {batch_labels}\")\n",
        "            #print(f\"  correctos: {correctos}\") \n",
        "            # se acumulan las predicciones correctas de este batch a las de los otros batches de la epoca\n",
        "            train_accuracies[epoca] += correctos.type(torch.float).sum().item() \n",
        "\n",
        "        # se normaliza el loss del training set\n",
        "        train_losses[epoca] /= len(train_loader.dataset)\n",
        "        train_accuracies[epoca] /= len(train_loader.dataset)\n",
        "        \n",
        "        # se desactiva la diferenciación automática para la inferencia sobre el val set\n",
        "        modelo.eval()\n",
        "        with torch.no_grad():\n",
        "            for i, (batch_features, batch_labels, batch_lengths) in enumerate(val_loader):\n",
        "                # Nos aseguramos que los inputs del modelo estén en el mismo dispositivo\n",
        "                batch_features = batch_features.to(DEVICE)\n",
        "                batch_labels = batch_labels.to(DEVICE)\n",
        "                # Generar las predicciones\n",
        "                batch_preds = modelo(batch_features, batch_lengths)[:, 0] \n",
        "                # Comparar con las realidades a partir del loss function\n",
        "                loss = loss_fn(batch_preds, batch_labels)\n",
        "                # se acumulan los losses de la epoca (ponderados por el tamaño del batch)\n",
        "                val_losses[epoca] += loss.item() * batch_labels.size(0)\n",
        "                # se acumulan las predicciones correctas de la epoca\n",
        "                correctos = (batch_preds.gt(0.5).type(torch.float) == batch_labels)\n",
        "                val_accuracies[epoca] += correctos.type(torch.float).sum().item() \n",
        "\n",
        "        # se normalizan el loss del val set\n",
        "        val_losses[epoca] /= len(val_loader.dataset)\n",
        "        val_accuracies[epoca] /= len(val_loader.dataset)\n",
        "\n",
        "        epoca_end_time = time.time()\n",
        "        segundos = epoca_end_time - epoca_start_time\n",
        "\n",
        "        if verbose:\n",
        "            print(f\"{epoca}:  loss: {train_losses[epoca]:>7f}, accuracy: {train_accuracies[epoca]:>7f}, val loss: {val_losses[epoca]:>7f}, val accuracy: {val_accuracies[epoca]:>7f}\",\n",
        "                    f\"-- time: {segundos:.2f}\")\n",
        "        # model checkpoint\n",
        "        if val_losses[epoca] < min_loss:\n",
        "            best_model=copy.deepcopy(modelo)\n",
        "            torch.save(modelo, \"best_model.pth\")\n",
        "            print(f\"Se mejoró el loss de {min_loss} a {val_losses[epoca]}\")\n",
        "            min_loss = val_losses[epoca]\n",
        "            num_epocas_patience = 0\n",
        "        else: \n",
        "            num_epocas_patience +=1\n",
        "\n",
        "        if early_stopping_loss_val_patience >-1 and num_epocas_patience > early_stopping_loss_val_patience:\n",
        "            print(f\"----- Se sobrepasó el patience del val loss del early stopping {num_epocas_patience})\")\n",
        "            break\n",
        "\n",
        "    return best_model, train_losses, train_accuracies, val_losses, val_accuracies"
      ]
    },
    {
      "cell_type": "code",
      "execution_count": null,
      "metadata": {
        "colab": {
          "base_uri": "https://localhost:8080/"
        },
        "id": "pjvt8IBBTj1i",
        "outputId": "840be2d2-12af-40be-d0be-bdf650c98421"
      },
      "outputs": [
        {
          "name": "stdout",
          "output_type": "stream",
          "text": [
            "0:  loss: 0.643595, accuracy: 0.614000, val loss: 0.617076, val accuracy: 0.650400 -- time: 84.23\n",
            "Se mejoró el loss de inf a 0.6170758543014526\n",
            "1:  loss: 0.522501, accuracy: 0.737440, val loss: 0.477410, val accuracy: 0.772600 -- time: 81.57\n",
            "Se mejoró el loss de 0.6170758543014526 a 0.47741008348464964\n",
            "2:  loss: 0.439974, accuracy: 0.802080, val loss: 0.467608, val accuracy: 0.783800 -- time: 86.80\n",
            "Se mejoró el loss de 0.47741008348464964 a 0.46760824270248413\n",
            "3:  loss: 0.355466, accuracy: 0.854960, val loss: 0.387376, val accuracy: 0.839000 -- time: 76.11\n",
            "Se mejoró el loss de 0.46760824270248413 a 0.3873763963699341\n",
            "4:  loss: 0.294369, accuracy: 0.883480, val loss: 0.358282, val accuracy: 0.846000 -- time: 76.12\n",
            "Se mejoró el loss de 0.3873763963699341 a 0.358282488155365\n",
            "5:  loss: 0.274830, accuracy: 0.888800, val loss: 0.345695, val accuracy: 0.859600 -- time: 75.42\n",
            "Se mejoró el loss de 0.358282488155365 a 0.3456947584152222\n",
            "6:  loss: 0.209816, accuracy: 0.922040, val loss: 0.435759, val accuracy: 0.808400 -- time: 76.26\n",
            "7:  loss: 0.180381, accuracy: 0.934160, val loss: 0.380754, val accuracy: 0.862200 -- time: 75.82\n",
            "8:  loss: 0.153833, accuracy: 0.944840, val loss: 0.433793, val accuracy: 0.845800 -- time: 76.05\n",
            "9:  loss: 0.136024, accuracy: 0.953160, val loss: 0.433513, val accuracy: 0.865600 -- time: 76.69\n",
            "10:  loss: 0.101369, accuracy: 0.967160, val loss: 0.419890, val accuracy: 0.865600 -- time: 82.69\n",
            "11:  loss: 0.106081, accuracy: 0.964280, val loss: 0.514271, val accuracy: 0.777600 -- time: 77.60\n",
            "----- Se sobrepasó el patience del val loss del early stopping 6)\n"
          ]
        }
      ],
      "source": [
        "torch.manual_seed(1)\n",
        "modelo = SentimentAnalysisModel(vocab_size, embed_dim, rnn_hidden_size, fc_hidden_size) \n",
        "modelo = modelo.to(DEVICE)\n",
        "\n",
        "modelo, train_losses, train_accuracies, val_losses, val_accuracies = \\\n",
        "    train_model_sentiment(modelo, train_dl, val_dl, learning_rate=1e-3, epocas=15, early_stopping_loss_val_patience=5, verbose=True)"
      ]
    },
    {
      "cell_type": "markdown",
      "metadata": {
        "id": "qY4ce9pFdd8k"
      },
      "source": [
        "Creamos una función para plotear los resultados a lo largo del entrenamiento."
      ]
    },
    {
      "cell_type": "code",
      "execution_count": 52,
      "metadata": {
        "id": "5oDVFPbhdd8k"
      },
      "outputs": [],
      "source": [
        "def plot_losses_and_accuracies(train_losses, train_accuracies, val_losses=None, val_accuracies=None):\n",
        "    fig = plt.figure(figsize=(15,6))\n",
        "\n",
        "    ax = fig.add_subplot(1, 2, 1)\n",
        "    ax.plot(train_losses)\n",
        "    if val_losses is not None:\n",
        "        ax.plot(val_losses)\n",
        "        plt.legend(['train', 'val'], loc='upper left')\n",
        "    plt.title('model loss')\n",
        "    plt.ylabel('loss')\n",
        "    plt.xlabel('epoch')\n",
        "    plt.title('model loss')\n",
        "\n",
        "    ax = fig.add_subplot(1, 2, 2)\n",
        "    ax.plot(train_accuracies)\n",
        "    if val_accuracies is not None:\n",
        "        ax.plot(val_accuracies)\n",
        "        plt.legend(['train', 'val'], loc='upper left')\n",
        "    plt.ylabel('accuracy')\n",
        "    plt.xlabel('epoch')\n",
        "    plt.title('model accuracy')\n",
        "\n",
        "    _=plt.show()\n"
      ]
    },
    {
      "cell_type": "code",
      "execution_count": null,
      "metadata": {
        "colab": {
          "base_uri": "https://localhost:8080/",
          "height": 404
        },
        "id": "Wv8JoQAwc62m",
        "outputId": "06b532dc-0f01-4bfc-b9c1-9ecdf02b3ec5"
      },
      "outputs": [
        {
          "data": {
            "image/png": "[encoded data removed]",
            "text/plain": [
              "<Figure size 1080x432 with 2 Axes>"
            ]
          },
          "metadata": {},
          "output_type": "display_data"
        }
      ],
      "source": [
        "plot_losses_and_accuracies(train_losses, train_accuracies, val_losses, val_accuracies)"
      ]
    },
    {
      "cell_type": "markdown",
      "metadata": {
        "id": "SDTyiILrd_es"
      },
      "source": [
        "Creamos también una función para evaluar cualquier dataset (e.g. el test set) con un modelo ya entrenado, y que retorne el loss y accuracy del proceso de inferencia."
      ]
    },
    {
      "cell_type": "code",
      "execution_count": 53,
      "metadata": {
        "id": "5hfS8_J7d-Js"
      },
      "outputs": [],
      "source": [
        "def eval_model(modelo, dataloader, loss_fn=nn.BCELoss()):\n",
        "    modelo.eval()\n",
        "    loss = 0\n",
        "    accuracy = 0\n",
        "\n",
        "    with torch.no_grad():\n",
        "        for batch_idx, (batch_features, batch_labels, batch_lengths) in enumerate(dataloader):\n",
        "            batch_features = batch_features.to(DEVICE)\n",
        "            batch_labels = batch_labels.to(DEVICE)\n",
        "            batch_preds = modelo(batch_features, batch_lengths)[:, 0]\n",
        "            loss += loss_fn(batch_preds, batch_labels).item() * batch_labels.size(0)\n",
        "            correctos = (batch_preds.gt(0.5).type(torch.float) == batch_labels)\n",
        "            accuracy += correctos.type(torch.float).sum().item()\n",
        "            \n",
        "    # se normalizan el loss y el accuracy del val set\n",
        "    loss /= len(dataloader.dataset)\n",
        "    accuracy /= len(dataloader.dataset)\n",
        "    return loss, accuracy"
      ]
    },
    {
      "cell_type": "code",
      "execution_count": null,
      "metadata": {
        "colab": {
          "base_uri": "https://localhost:8080/"
        },
        "id": "089QqGtFAoHK",
        "outputId": "ce303050-a2dc-434a-e9ba-f106d1fd02f6"
      },
      "outputs": [
        {
          "name": "stderr",
          "output_type": "stream",
          "text": [
            "/usr/local/lib/python3.8/dist-packages/torch/nn/modules/rnn.py:777: UserWarning: RNN module weights are not part of single contiguous chunk of memory. This means they need to be compacted at every call, possibly greatly increasing memory usage. To compact weights again call flatten_parameters(). (Triggered internally at ../aten/src/ATen/native/cudnn/RNN.cpp:968.)\n",
            "  result = _VF.lstm(input, batch_sizes, hx, self._flat_weights, self.bias,\n"
          ]
        },
        {
          "name": "stdout",
          "output_type": "stream",
          "text": [
            "El loss de test es 0.3355336497068405, y el accuracy de test es de 0.863. \n"
          ]
        }
      ],
      "source": [
        "test_loss, test_acc = eval_model(modelo, test_dl)\n",
        "print(f\"El loss de test es {test_loss}, y el accuracy de test es de {test_acc:.3f}. \")\n",
        "torch.save(modelo, \"imdb_sentiment_analysis.pth\")"
      ]
    },
    {
      "cell_type": "markdown",
      "metadata": {
        "id": "N13CS2EyAnna"
      },
      "source": [
        "Los resultados son aceptables, con un 86% de accuracy sobre el test set, pero se podrían mejorar con modelos más complejos o con otro tipo de arquitecturas, como la de transformers."
      ]
    },
    {
      "cell_type": "markdown",
      "metadata": {
        "id": "ZHZN6-OCIW_0"
      },
      "source": [
        "# 5. Modelo recurrente bidireccional de análisis de sentimiento"
      ]
    },
    {
      "cell_type": "markdown",
      "metadata": {
        "id": "uQWr4PgcIWx2"
      },
      "source": [
        "Los modelos recurrentes que hemos utilizado hasta ahora consideran la secuencia de tokens de texto buscando patrones en el sentido de lectura (\"de izquierda a derecha\").\n",
        "Podemos entonces encontrar patrones que considere relaciones entre palabras y una o varias de las palabras sucesoras.\n",
        "Existen también patrones entre palabras y una o varias de las palabras antecesoras que los modelos recurrentes de base no consideran. Se consideran entonces implementaciones bidireccionales, capaces de analizar las secuencias en ambos sentidos de la secuencia a la vez (aunque se consideran relaciones entre patrones de sentidos contrarios).\n",
        "\n",
        "En tratamiento de lenguaje natural esto cobra importancia, por ejemplo al poder otorgarle una semántica diferente a palabras homónimas dependiendo de las palabras que le suceden: \"el banco no me quiso cobrar el cheque\" vs \"el banco estaba muy incómodo y no pude sentarme\"."
      ]
    },
    {
      "cell_type": "markdown",
      "metadata": {
        "id": "93Q8fvtBKiq0"
      },
      "source": [
        "Reutilizaremos el embedding ilustrativo previamente construido (3 dimensiones, 10 tokens), para entender el funcionamiento de una capa BiLSTM con 8 células.\n",
        "La capa recurrente recibirá un tensor de 2 instancias, cada una con secuencias de 4 tokens, representados en un embedding de 3 dimensiones."
      ]
    },
    {
      "cell_type": "code",
      "execution_count": null,
      "metadata": {
        "colab": {
          "base_uri": "https://localhost:8080/"
        },
        "id": "-shTrnDZWJNi",
        "outputId": "097ed8ac-e26c-42fa-8934-a63ba0c34939"
      },
      "outputs": [
        {
          "name": "stdout",
          "output_type": "stream",
          "text": [
            "torch.Size([2, 4, 3])\n",
            "tensor([[[-0.4514, -0.5918, -0.0180],\n",
            "         [ 0.9769,  0.0398,  0.2782],\n",
            "         [-0.8889, -0.4585,  1.5537],\n",
            "         [-0.0930,  0.9984,  0.3493]],\n",
            "\n",
            "        [[-0.8889, -0.4585,  1.5537],\n",
            "         [ 1.7969,  0.8506, -1.1664],\n",
            "         [ 0.9769,  0.0398,  0.2782],\n",
            "         [ 0.0000,  0.0000,  0.0000]]], grad_fn=<EmbeddingBackward0>)\n"
          ]
        }
      ],
      "source": [
        "text_encoded_input = torch.LongTensor([[1,2,4,5],[4,3,2,0]])\n",
        "embedding_output = embedding(text_encoded_input)\n",
        "print(embedding_output.shape)\n",
        "print(embedding_output)"
      ]
    },
    {
      "cell_type": "code",
      "execution_count": null,
      "metadata": {
        "id": "QqXpeVrxUnXn"
      },
      "outputs": [],
      "source": [
        "lstm_nobi = nn.LSTM(3, 8, batch_first=True, bidirectional=False)\n",
        "lstm_bi = nn.LSTM(3, 8, batch_first=True, bidirectional=True)"
      ]
    },
    {
      "cell_type": "code",
      "execution_count": null,
      "metadata": {
        "colab": {
          "base_uri": "https://localhost:8080/"
        },
        "id": "UzY4XIXAWdO9",
        "outputId": "44076e3f-0605-4b58-b35a-dbd094892a08"
      },
      "outputs": [
        {
          "name": "stdout",
          "output_type": "stream",
          "text": [
            "weight_ih_l0: torch.Size([32, 3])\n",
            "weight_hh_l0: torch.Size([32, 8])\n",
            "bias_ih_l0: torch.Size([32])\n",
            "bias_hh_l0: torch.Size([32])\n",
            "\n",
            "weight_ih_l0: torch.Size([32, 3])\n",
            "weight_hh_l0: torch.Size([32, 8])\n",
            "bias_ih_l0: torch.Size([32])\n",
            "bias_hh_l0: torch.Size([32])\n",
            "weight_ih_l0_reverse: torch.Size([32, 3])\n",
            "weight_hh_l0_reverse: torch.Size([32, 8])\n",
            "bias_ih_l0_reverse: torch.Size([32])\n",
            "bias_hh_l0_reverse: torch.Size([32])\n"
          ]
        }
      ],
      "source": [
        "for name, value in lstm_nobi.named_parameters():\n",
        "    print(f\"{name}: {value.shape}\")\n",
        "print(\"\")\n",
        "for name, value in lstm_bi.named_parameters():\n",
        "    print(f\"{name}: {value.shape}\")"
      ]
    },
    {
      "cell_type": "markdown",
      "metadata": {
        "id": "MYw78JcRWdGW"
      },
      "source": [
        "Vemos que la capa tiene el doble de parámetros que las capas LSTM no bidireccionales, con matrices de pesos y vectores de sesgos separados para cada sentido de procesamiento, con tensores de la misma dimensionalidad."
      ]
    },
    {
      "cell_type": "markdown",
      "metadata": {
        "id": "YwbT78O6Wc9u"
      },
      "source": [
        "Procesemos ahora el embedding de las dos frases de 4 tokens codificadas anteriormente:"
      ]
    },
    {
      "cell_type": "code",
      "execution_count": null,
      "metadata": {
        "id": "T6HFI6I-XYil"
      },
      "outputs": [],
      "source": [
        "preds_nobi = lstm_nobi(embedding_output)\n",
        "preds_bi = lstm_bi(embedding_output)"
      ]
    },
    {
      "cell_type": "markdown",
      "metadata": {
        "id": "gJdhPB-ZZVAi"
      },
      "source": [
        "El resultado de una capa `LSTM` es una tupla de dos elementos, independientemente de si es bidireccional o no."
      ]
    },
    {
      "cell_type": "code",
      "execution_count": null,
      "metadata": {
        "colab": {
          "base_uri": "https://localhost:8080/"
        },
        "id": "ITaKG3VyXYZA",
        "outputId": "2bcc059f-6675-4a73-ddfe-2d923739e9ca"
      },
      "outputs": [
        {
          "name": "stdout",
          "output_type": "stream",
          "text": [
            "preds_nobi: 2\n",
            "preds_nobi[0]: torch.Size([2, 4, 8])\n",
            "preds_nobi[1]: 2\n",
            "preds_nobi[1][0]: torch.Size([1, 2, 8])\n",
            "preds_nobi[1][1]: torch.Size([1, 2, 8])\n",
            "\n",
            "preds_bi: 2\n",
            "preds_bi[0]: torch.Size([2, 4, 16])\n",
            "preds_bi[1]: 2\n",
            "preds_bi[1][0]: torch.Size([2, 2, 8])\n",
            "preds_bi[1][1]: torch.Size([2, 2, 8])\n"
          ]
        }
      ],
      "source": [
        "print(f\"preds_nobi: {len(preds_nobi)}\")\n",
        "print(f\"preds_nobi[0]: {preds_nobi[0].shape}\")\n",
        "print(f\"preds_nobi[1]: {len(preds_nobi[1])}\")\n",
        "print(f\"preds_nobi[1][0]: {preds_nobi[1][0].shape}\")\n",
        "print(f\"preds_nobi[1][1]: {preds_nobi[1][1].shape}\")\n",
        "print(\"\")\n",
        "print(f\"preds_bi: {len(preds_bi)}\")\n",
        "print(f\"preds_bi[0]: {preds_bi[0].shape}\")\n",
        "print(f\"preds_bi[1]: {len(preds_bi[1])}\")\n",
        "print(f\"preds_bi[1][0]: {preds_bi[1][0].shape}\")\n",
        "print(f\"preds_bi[1][1]: {preds_bi[1][1].shape}\")\n"
      ]
    },
    {
      "cell_type": "markdown",
      "metadata": {
        "id": "TElM_arZagFp"
      },
      "source": [
        "El resultado de la capa es una tupla de 2 elementos:\n",
        "- un primer elemento tensor organizado así: (batch, secuencia, estados escondidos finales de cada célula), que incluye los estados escondidos para cada elemento de la secuencia. En el caso no bidireccional tenemos en la última dimension las 8 células de la capa; en el caso bidireccional estos estados se duplican, incluyendo los estados de salida en ambos sentido.\n",
        "- el segundo elemento es una tupla de 2 posiciones:\n",
        "    - un tensor con solo los últimos estados escondidos de cada instancia (número de capas recurrentes, batch, número de células). En el caso de una capa bidireccional, el primer eje contiene el doble de posiciones, con la concatenación de los últimos estados escondidos en el sentido \"de izquierda a derecha\", y los primeros estados de \"derecha a izquierda\".\n",
        "    - un tensor con el valor de los últimos valores del cell state de cada célula (número de capas recurrentes, batch, número de células). En el caso de una capa bidireccional, el primer eje contiene el doble de posiciones, con la concatenación de los últimos cell states en el sentido \"de izquierda a derecha\", y los primeros cell states de \"derecha a izquierda\"."
      ]
    },
    {
      "cell_type": "code",
      "execution_count": null,
      "metadata": {
        "colab": {
          "base_uri": "https://localhost:8080/"
        },
        "id": "WwxJEF5jeQeX",
        "outputId": "1dfc4b4d-d423-4cbc-97c2-e10065fef84b"
      },
      "outputs": [
        {
          "data": {
            "text/plain": [
              "tensor([[[ 0.0184,  0.1219, -0.0998,  0.1157, -0.1100, -0.0150, -0.0851,\n",
              "          -0.1640, -0.0626,  0.0749, -0.0988, -0.2047, -0.0042, -0.0112,\n",
              "           0.1247,  0.2697],\n",
              "         [-0.0241,  0.1512, -0.2896,  0.0283, -0.0650,  0.0530, -0.0975,\n",
              "          -0.2972, -0.0610,  0.0716, -0.1457, -0.1857, -0.0106, -0.0406,\n",
              "           0.0975,  0.2804],\n",
              "         [ 0.1073,  0.1485, -0.2391, -0.0032, -0.0846,  0.0078, -0.1860,\n",
              "          -0.3381, -0.0738,  0.1198, -0.0381, -0.1657,  0.0137,  0.0504,\n",
              "           0.1716,  0.1860],\n",
              "         [ 0.0970,  0.1470, -0.2351, -0.0340, -0.0437, -0.0018, -0.1785,\n",
              "          -0.2838, -0.0933,  0.0619, -0.1218,  0.0253,  0.0450, -0.0440,\n",
              "           0.0772,  0.1012]],\n",
              "\n",
              "        [[ 0.1008,  0.0560, -0.1194,  0.0152, -0.0544, -0.0252, -0.1490,\n",
              "          -0.1861, -0.0597,  0.0682, -0.0548, -0.1729,  0.0037, -0.0354,\n",
              "           0.0960,  0.1931],\n",
              "         [-0.0459,  0.1261, -0.2922,  0.0080,  0.0031,  0.1172, -0.0877,\n",
              "          -0.2560, -0.0477, -0.0885, -0.3653, -0.0571,  0.0350, -0.2087,\n",
              "          -0.0663,  0.1913],\n",
              "         [-0.0769,  0.1301, -0.3431, -0.0465, -0.0031,  0.1142, -0.1044,\n",
              "          -0.3441,  0.0117,  0.0381, -0.1676, -0.1272, -0.0005, -0.0969,\n",
              "           0.0711,  0.2369],\n",
              "         [-0.0132,  0.1636, -0.2958,  0.0076, -0.0608,  0.0759, -0.1215,\n",
              "          -0.3417, -0.0022,  0.0496, -0.1028, -0.0647,  0.0201, -0.0425,\n",
              "           0.0778,  0.1434]]], grad_fn=<TransposeBackward0>)"
            ]
          },
          "execution_count": 64,
          "metadata": {},
          "output_type": "execute_result"
        }
      ],
      "source": [
        "preds_bi[0]"
      ]
    },
    {
      "cell_type": "code",
      "execution_count": null,
      "metadata": {
        "colab": {
          "base_uri": "https://localhost:8080/"
        },
        "id": "3_JQyhWAeK5M",
        "outputId": "e6adda27-f20a-4679-9cf1-ccd2092fc31d"
      },
      "outputs": [
        {
          "data": {
            "text/plain": [
              "tensor([[[ 0.0970,  0.1470, -0.2351, -0.0340, -0.0437, -0.0018, -0.1785,\n",
              "          -0.2838],\n",
              "         [-0.0132,  0.1636, -0.2958,  0.0076, -0.0608,  0.0759, -0.1215,\n",
              "          -0.3417]],\n",
              "\n",
              "        [[-0.0626,  0.0749, -0.0988, -0.2047, -0.0042, -0.0112,  0.1247,\n",
              "           0.2697],\n",
              "         [-0.0597,  0.0682, -0.0548, -0.1729,  0.0037, -0.0354,  0.0960,\n",
              "           0.1931]]], grad_fn=<StackBackward0>)"
            ]
          },
          "execution_count": 65,
          "metadata": {},
          "output_type": "execute_result"
        }
      ],
      "source": [
        "preds_bi[1][0]"
      ]
    },
    {
      "cell_type": "markdown",
      "metadata": {
        "id": "ly-iQfb_hE3K"
      },
      "source": [
        "Creamos entonces un nuevo modelo con una capa recurrente `LSTM` bidireccional.\n",
        "Durante el procesamiento en el método `forward`, vamos a concatenar los estados de salida en las dos direcciones como entrada a la primera capa densa; esta capa tiene entonces el doble de entradas que el número de células recurrentes."
      ]
    },
    {
      "cell_type": "code",
      "execution_count": 62,
      "metadata": {
        "id": "omsfCyLTNEr-"
      },
      "outputs": [],
      "source": [
        "class SentimentAnalysisModelBidirectional(nn.Module):\n",
        "    def __init__(self, vocab_size, embed_dim, rnn_hidden_size, fc_hidden_size):\n",
        "        super().__init__()\n",
        "        self.embedding = nn.Embedding(vocab_size, embed_dim, padding_idx=0) \n",
        "        self.rnn = nn.LSTM(embed_dim, rnn_hidden_size, \n",
        "                           batch_first=True, bidirectional=True)\n",
        "        self.fc1 = nn.Linear(rnn_hidden_size*2, fc_hidden_size)\n",
        "        self.relu = nn.ReLU()\n",
        "        self.fc2 = nn.Linear(fc_hidden_size, 1)\n",
        "        self.sigmoid = nn.Sigmoid()\n",
        "\n",
        "    def forward(self, text, lengths):\n",
        "        out = self.embedding(text)\n",
        "        out = nn.utils.rnn.pack_padded_sequence(out, lengths.cpu().numpy(), enforce_sorted=False, batch_first=True)\n",
        "\n",
        "        _, (hidden, cell) = self.rnn(out)\n",
        "        out = torch.cat((hidden[-2, :, :], hidden[-1, :, :]), dim=1)\n",
        "\n",
        "        out = self.fc1(out)\n",
        "        out = self.relu(out)\n",
        "        out = self.fc2(out)\n",
        "        out = self.sigmoid(out)\n",
        "        return out"
      ]
    },
    {
      "cell_type": "markdown",
      "metadata": {
        "id": "YWkCE2nvNEVG"
      },
      "source": [
        "Creamos un modelo bidireccional y lo entrenamos."
      ]
    },
    {
      "cell_type": "code",
      "execution_count": null,
      "metadata": {
        "colab": {
          "base_uri": "https://localhost:8080/"
        },
        "id": "AUsaSO2lNEK9",
        "outputId": "1f1b03e6-da4d-4f06-aa85-cf8461598325"
      },
      "outputs": [
        {
          "name": "stdout",
          "output_type": "stream",
          "text": [
            "0:  loss: 0.626397, accuracy: 0.634520, val loss: 0.562371, val accuracy: 0.708800 -- time: 126.29\n",
            "Se mejoró el loss de inf a 0.5623705344200134\n",
            "1:  loss: 0.510674, accuracy: 0.746160, val loss: 0.495297, val accuracy: 0.758000 -- time: 125.57\n",
            "Se mejoró el loss de 0.5623705344200134 a 0.49529733810424803\n",
            "2:  loss: 0.411996, accuracy: 0.813680, val loss: 0.510835, val accuracy: 0.769000 -- time: 117.60\n",
            "3:  loss: 0.405432, accuracy: 0.815280, val loss: 0.425857, val accuracy: 0.797600 -- time: 118.75\n",
            "Se mejoró el loss de 0.49529733810424803 a 0.42585708951950074\n",
            "4:  loss: 0.290321, accuracy: 0.882080, val loss: 0.351341, val accuracy: 0.847200 -- time: 118.67\n",
            "Se mejoró el loss de 0.42585708951950074 a 0.3513411153793335\n",
            "5:  loss: 0.228594, accuracy: 0.910520, val loss: 0.345966, val accuracy: 0.857200 -- time: 119.07\n",
            "Se mejoró el loss de 0.3513411153793335 a 0.3459660375118256\n",
            "6:  loss: 0.186487, accuracy: 0.930280, val loss: 0.343455, val accuracy: 0.867200 -- time: 118.88\n",
            "Se mejoró el loss de 0.3459660375118256 a 0.34345520935058593\n",
            "7:  loss: 0.174804, accuracy: 0.935400, val loss: 0.360761, val accuracy: 0.870600 -- time: 118.16\n",
            "8:  loss: 0.123485, accuracy: 0.958320, val loss: 0.416078, val accuracy: 0.867000 -- time: 119.68\n",
            "9:  loss: 0.087261, accuracy: 0.971160, val loss: 0.373811, val accuracy: 0.876200 -- time: 120.08\n",
            "10:  loss: 0.064975, accuracy: 0.979880, val loss: 0.402701, val accuracy: 0.878600 -- time: 120.73\n",
            "11:  loss: 0.044064, accuracy: 0.987720, val loss: 0.521657, val accuracy: 0.863800 -- time: 117.96\n",
            "12:  loss: 0.031083, accuracy: 0.991280, val loss: 0.551624, val accuracy: 0.871400 -- time: 119.69\n",
            "----- Se sobrepasó el patience del val loss del early stopping 6)\n"
          ]
        }
      ],
      "source": [
        "torch.manual_seed(1)\n",
        "modelo_bi = SentimentAnalysisModelBidirectional(vocab_size, embed_dim, rnn_hidden_size, fc_hidden_size) \n",
        "modelo_bi = modelo_bi.to(DEVICE)\n",
        "\n",
        "modelo_bi, train_losses, train_accuracies, val_losses, val_accuracies = \\\n",
        "    train_model_sentiment(modelo_bi, train_dl, val_dl, learning_rate=1e-3, epocas=15, early_stopping_loss_val_patience=5, verbose=True)"
      ]
    },
    {
      "cell_type": "code",
      "execution_count": null,
      "metadata": {
        "colab": {
          "base_uri": "https://localhost:8080/",
          "height": 404
        },
        "id": "tz64wGmwND7V",
        "outputId": "9c5b8b8a-3215-48ab-e603-62b55f8e4a20"
      },
      "outputs": [
        {
          "data": {
            "image/png": "[encoded data removed]",
            "text/plain": [
              "<Figure size 1080x432 with 2 Axes>"
            ]
          },
          "metadata": {},
          "output_type": "display_data"
        }
      ],
      "source": [
        "plot_losses_and_accuracies(train_losses, train_accuracies, val_losses, val_accuracies)"
      ]
    },
    {
      "cell_type": "code",
      "execution_count": null,
      "metadata": {
        "colab": {
          "base_uri": "https://localhost:8080/"
        },
        "id": "X-T5TSX4is7a",
        "outputId": "04eec231-a5c1-4b2d-9255-275cd41a3103"
      },
      "outputs": [
        {
          "name": "stderr",
          "output_type": "stream",
          "text": [
            "/usr/local/lib/python3.8/dist-packages/torch/nn/modules/rnn.py:777: UserWarning: RNN module weights are not part of single contiguous chunk of memory. This means they need to be compacted at every call, possibly greatly increasing memory usage. To compact weights again call flatten_parameters(). (Triggered internally at ../aten/src/ATen/native/cudnn/RNN.cpp:968.)\n",
            "  result = _VF.lstm(input, batch_sizes, hx, self._flat_weights, self.bias,\n"
          ]
        },
        {
          "name": "stdout",
          "output_type": "stream",
          "text": [
            "El loss de test es 0.32635941242575645, y el accuracy de test es de 0.876. \n"
          ]
        }
      ],
      "source": [
        "test_loss, test_acc = eval_model(modelo_bi, test_dl)\n",
        "print(f\"El loss de test es {test_loss}, y el accuracy de test es de {test_acc:.3f}. \")\n",
        "torch.save(modelo, \"imdb_sentiment_analysis_bi.pth\")"
      ]
    },
    {
      "cell_type": "markdown",
      "metadata": {
        "id": "EKt7QehQo46w"
      },
      "source": [
        "Con el modelo no bidireccional, el loss de test era de 0.336 y el accuracy de 86.3%. Con el modelo bidireccional mejoramos la calidad de las predicciones solo un poco, reduciendo el loss a 0.326 y aumentando el accuracy a 87.6%."
      ]
    },
    {
      "cell_type": "markdown",
      "metadata": {
        "id": "80c0iZWiitYS"
      },
      "source": [
        "# 6. Transfer learning sobre embeddings"
      ]
    },
    {
      "cell_type": "markdown",
      "metadata": {
        "id": "tqOgfIxoitii"
      },
      "source": [
        "De la misma manera que se puede aprovechar la extracción de features de imágenes a partir de modelos convolucionales, se puede reutilizar embeddings previamente entrenados para realizar tareas de NLP similares sobre conjuntos de textos de mucha mayor extensión.\n",
        "\n",
        "Vamos entonces a reutilizar un embedding llamado **GloVe**, acrónimo de \"Global Vectors for Word Representation\", un proyecto de Stanford (https://nlp.stanford.edu/projects/glove/) que, a partir de un algoritmo de aprendizaje no supervisado aplicado a un corpus de estadísticas sobre co-ocurrencias entre palabras permite obtener embeddings que abstraen relaciones lineales en el nuevo espacio de representación entre diferentes palabras."
      ]
    },
    {
      "cell_type": "markdown",
      "metadata": {
        "id": "Pp1SlAxTvB0I"
      },
      "source": [
        "Vamos a descargar y descomprimir el archivo de embeddings"
      ]
    },
    {
      "cell_type": "code",
      "execution_count": 54,
      "metadata": {
        "colab": {
          "base_uri": "https://localhost:8080/"
        },
        "id": "0DWeMQTHpke6",
        "outputId": "cff5f803-228a-41e5-824d-79c9ca12afd4"
      },
      "outputs": [
        {
          "output_type": "stream",
          "name": "stdout",
          "text": [
            "--2023-02-22 19:16:28--  http://nlp.stanford.edu/data/glove.6B.zip\n",
            "Resolving nlp.stanford.edu (nlp.stanford.edu)... 171.64.67.140\n",
            "Connecting to nlp.stanford.edu (nlp.stanford.edu)|171.64.67.140|:80... connected.\n",
            "HTTP request sent, awaiting response... 302 Found\n",
            "Location: https://nlp.stanford.edu/data/glove.6B.zip [following]\n",
            "--2023-02-22 19:16:28--  https://nlp.stanford.edu/data/glove.6B.zip\n",
            "Connecting to nlp.stanford.edu (nlp.stanford.edu)|171.64.67.140|:443... connected.\n",
            "HTTP request sent, awaiting response... 301 Moved Permanently\n",
            "Location: https://downloads.cs.stanford.edu/nlp/data/glove.6B.zip [following]\n",
            "--2023-02-22 19:16:29--  https://downloads.cs.stanford.edu/nlp/data/glove.6B.zip\n",
            "Resolving downloads.cs.stanford.edu (downloads.cs.stanford.edu)... 171.64.64.22\n",
            "Connecting to downloads.cs.stanford.edu (downloads.cs.stanford.edu)|171.64.64.22|:443... connected.\n",
            "HTTP request sent, awaiting response... 200 OK\n",
            "Length: 862182613 (822M) [application/zip]\n",
            "Saving to: ‘glove.6B.zip’\n",
            "\n",
            "glove.6B.zip        100%[===================>] 822.24M  5.10MB/s    in 2m 39s  \n",
            "\n",
            "2023-02-22 19:19:09 (5.16 MB/s) - ‘glove.6B.zip’ saved [862182613/862182613]\n",
            "\n"
          ]
        }
      ],
      "source": [
        "!wget http://nlp.stanford.edu/data/glove.6B.zip"
      ]
    },
    {
      "cell_type": "code",
      "execution_count": 55,
      "metadata": {
        "colab": {
          "base_uri": "https://localhost:8080/"
        },
        "id": "nEStD3OopkWY",
        "outputId": "5f41f204-f09c-447d-ae0d-5fa760f704c2"
      },
      "outputs": [
        {
          "output_type": "stream",
          "name": "stdout",
          "text": [
            "Archive:  glove.6B.zip\n",
            "  inflating: glove.6B.50d.txt        \n",
            "  inflating: glove.6B.100d.txt       \n",
            "  inflating: glove.6B.200d.txt       \n",
            "  inflating: glove.6B.300d.txt       \n"
          ]
        }
      ],
      "source": [
        "!unzip glove.6B.zip"
      ]
    },
    {
      "cell_type": "markdown",
      "metadata": {
        "id": "2TKLxApfvND9"
      },
      "source": [
        "GloVe incluye varios embeddings, con espacios vectoriales de diferente número de dimensiones (50, 100, 200, 300). Veamos la estructura de las primeras líneas del archivo correspondiente al embedding de 30 dimensiones."
      ]
    },
    {
      "cell_type": "code",
      "execution_count": 56,
      "metadata": {
        "colab": {
          "base_uri": "https://localhost:8080/"
        },
        "id": "jRi2CNRpvnTt",
        "outputId": "14642d61-d008-4912-f5cf-06787cd2d352"
      },
      "outputs": [
        {
          "output_type": "stream",
          "name": "stdout",
          "text": [
            "the 0.418 0.24968 -0.41242 0.1217 0.34527 -0.044457 -0.49688 -0.17862 -0.00066023 -0.6566 0.27843 -0.14767 -0.55677 0.14658 -0.0095095 0.011658 0.10204 -0.12792 -0.8443 -0.12181 -0.016801 -0.33279 -0.1552 -0.23131 -0.19181 -1.8823 -0.76746 0.099051 -0.42125 -0.19526 4.0071 -0.18594 -0.52287 -0.31681 0.00059213 0.0074449 0.17778 -0.15897 0.012041 -0.054223 -0.29871 -0.15749 -0.34758 -0.045637 -0.44251 0.18785 0.0027849 -0.18411 -0.11514 -0.78581\n",
            "\n",
            ", 0.013441 0.23682 -0.16899 0.40951 0.63812 0.47709 -0.42852 -0.55641 -0.364 -0.23938 0.13001 -0.063734 -0.39575 -0.48162 0.23291 0.090201 -0.13324 0.078639 -0.41634 -0.15428 0.10068 0.48891 0.31226 -0.1252 -0.037512 -1.5179 0.12612 -0.02442 -0.042961 -0.28351 3.5416 -0.11956 -0.014533 -0.1499 0.21864 -0.33412 -0.13872 0.31806 0.70358 0.44858 -0.080262 0.63003 0.32111 -0.46765 0.22786 0.36034 -0.37818 -0.56657 0.044691 0.30392\n",
            "\n",
            ". 0.15164 0.30177 -0.16763 0.17684 0.31719 0.33973 -0.43478 -0.31086 -0.44999 -0.29486 0.16608 0.11963 -0.41328 -0.42353 0.59868 0.28825 -0.11547 -0.041848 -0.67989 -0.25063 0.18472 0.086876 0.46582 0.015035 0.043474 -1.4671 -0.30384 -0.023441 0.30589 -0.21785 3.746 0.0042284 -0.18436 -0.46209 0.098329 -0.11907 0.23919 0.1161 0.41705 0.056763 -6.3681e-05 0.068987 0.087939 -0.10285 -0.13931 0.22314 -0.080803 -0.35652 0.016413 0.10216\n",
            "\n",
            "of 0.70853 0.57088 -0.4716 0.18048 0.54449 0.72603 0.18157 -0.52393 0.10381 -0.17566 0.078852 -0.36216 -0.11829 -0.83336 0.11917 -0.16605 0.061555 -0.012719 -0.56623 0.013616 0.22851 -0.14396 -0.067549 -0.38157 -0.23698 -1.7037 -0.86692 -0.26704 -0.2589 0.1767 3.8676 -0.1613 -0.13273 -0.68881 0.18444 0.0052464 -0.33874 -0.078956 0.24185 0.36576 -0.34727 0.28483 0.075693 -0.062178 -0.38988 0.22902 -0.21617 -0.22562 -0.093918 -0.80375\n",
            "\n",
            "to 0.68047 -0.039263 0.30186 -0.17792 0.42962 0.032246 -0.41376 0.13228 -0.29847 -0.085253 0.17118 0.22419 -0.10046 -0.43653 0.33418 0.67846 0.057204 -0.34448 -0.42785 -0.43275 0.55963 0.10032 0.18677 -0.26854 0.037334 -2.0932 0.22171 -0.39868 0.20912 -0.55725 3.8826 0.47466 -0.95658 -0.37788 0.20869 -0.32752 0.12751 0.088359 0.16351 -0.21634 -0.094375 0.018324 0.21048 -0.03088 -0.19722 0.082279 -0.09434 -0.073297 -0.064699 -0.26044\n",
            "\n",
            "and 0.26818 0.14346 -0.27877 0.016257 0.11384 0.69923 -0.51332 -0.47368 -0.33075 -0.13834 0.2702 0.30938 -0.45012 -0.4127 -0.09932 0.038085 0.029749 0.10076 -0.25058 -0.51818 0.34558 0.44922 0.48791 -0.080866 -0.10121 -1.3777 -0.10866 -0.23201 0.012839 -0.46508 3.8463 0.31362 0.13643 -0.52244 0.3302 0.33707 -0.35601 0.32431 0.12041 0.3512 -0.069043 0.36885 0.25168 -0.24517 0.25381 0.1367 -0.31178 -0.6321 -0.25028 -0.38097\n",
            "\n"
          ]
        }
      ],
      "source": [
        "myfile = open(\"glove.6B.50d.txt\", \"r\")\n",
        "i = 0\n",
        "while myfile:\n",
        "    line  = myfile.readline()\n",
        "    print(line)\n",
        "    if line == \"\" or i==5:\n",
        "        break\n",
        "    i = i+1\n",
        "myfile.close() "
      ]
    },
    {
      "cell_type": "markdown",
      "metadata": {
        "id": "KPXUvAgfwcZo"
      },
      "source": [
        "Vemos que cada línea incluye la representación de una palabra (se incluyen los signos de puntuación) en vectores de 50 dimensiones.\n",
        "\n",
        "Vamos a cargar y recorrer el archivo en una lista (a cada línea le quitamos el salto de línea). Cada línea se separa por espacios; la primera posición se extrae como la palabra (se agrega a un diccionario ordenado), y el resto como el vector de representación correspondiente (que se agrega a una lista)."
      ]
    },
    {
      "cell_type": "code",
      "execution_count": 57,
      "metadata": {
        "id": "jDqGYT-luJ1p"
      },
      "outputs": [],
      "source": [
        "embeddings = []\n",
        "vocab_globe_dict = OrderedDict({})\n",
        "with open('glove.6B.50d.txt','rt') as fi:\n",
        "    full_content = fi.read().strip().split('\\n')\n",
        "for i in range(len(full_content)):\n",
        "    i_word = full_content[i].split(' ')[0]\n",
        "    i_embeddings = [float(val) for val in full_content[i].split(' ')[1:]]\n",
        "    vocab_globe_dict[i_word]=1\n",
        "    embeddings.append(i_embeddings)"
      ]
    },
    {
      "cell_type": "markdown",
      "metadata": {
        "id": "Pd0d9vJTzrsy"
      },
      "source": [
        "Modificamos el diccionario y los embeddings."
      ]
    },
    {
      "cell_type": "code",
      "execution_count": 58,
      "metadata": {
        "id": "Vy9xHBqjzrFC"
      },
      "outputs": [],
      "source": [
        "embedding_array = np.array(embeddings)"
      ]
    },
    {
      "cell_type": "code",
      "execution_count": 59,
      "metadata": {
        "colab": {
          "base_uri": "https://localhost:8080/"
        },
        "id": "m4UeZ8ejuJtX",
        "outputId": "2d0a1f4e-f67a-48fa-963d-7f2cd6853c81"
      },
      "outputs": [
        {
          "output_type": "execute_result",
          "data": {
            "text/plain": [
              "400000"
            ]
          },
          "metadata": {},
          "execution_count": 59
        }
      ],
      "source": [
        "len(vocab_globe_dict)"
      ]
    },
    {
      "cell_type": "code",
      "execution_count": 60,
      "metadata": {
        "colab": {
          "base_uri": "https://localhost:8080/"
        },
        "id": "7HchP1_3uJlT",
        "outputId": "2230a341-333b-4dcf-bb9d-087f3c6685ff"
      },
      "outputs": [
        {
          "output_type": "execute_result",
          "data": {
            "text/plain": [
              "(400000, 50)"
            ]
          },
          "metadata": {},
          "execution_count": 60
        }
      ],
      "source": [
        "embedding_array.shape"
      ]
    },
    {
      "cell_type": "markdown",
      "metadata": {
        "id": "FLMExIiRuJdm"
      },
      "source": [
        "Vemos que el embedding incluye la representación de 400000 tokens en un espacio vectorial de 50 dimensiones. Agregamos los tokens especiales de \\<unk\\> y de \\<pad\\>."
      ]
    },
    {
      "cell_type": "code",
      "execution_count": 61,
      "metadata": {
        "colab": {
          "base_uri": "https://localhost:8080/"
        },
        "id": "mLHc_TD3zih4",
        "outputId": "0731e245-d7ca-496b-c9f7-e06cc0f8c4c4"
      },
      "outputs": [
        {
          "output_type": "stream",
          "name": "stdout",
          "text": [
            "[[0. 0. 0. 0. 0. 0. 0. 0. 0. 0. 0. 0. 0. 0. 0. 0. 0. 0. 0. 0. 0. 0. 0. 0.\n",
            "  0. 0. 0. 0. 0. 0. 0. 0. 0. 0. 0. 0. 0. 0. 0. 0. 0. 0. 0. 0. 0. 0. 0. 0.\n",
            "  0. 0.]]\n",
            "[[-0.12920061 -0.28866239 -0.01224894 -0.05676689 -0.20211109 -0.08389026\n",
            "   0.33359737  0.16045146  0.03867495  0.17833092  0.0469662  -0.00285779\n",
            "   0.29099851  0.04613723 -0.20923842 -0.066131   -0.06822448  0.07665885\n",
            "   0.31339918  0.17848512 -0.12257719 -0.09916928 -0.07495973  0.06413206\n",
            "   0.14441256  0.608946    0.17463101  0.05335403 -0.01273826  0.03474108\n",
            "  -0.81239567 -0.04688727  0.20193533  0.20311115 -0.03935654  0.06967518\n",
            "  -0.01553655 -0.03405275 -0.06528025  0.12250092  0.13992005 -0.17446305\n",
            "  -0.08011841  0.08495219 -0.01041645 -0.13704901  0.20127088  0.10069294\n",
            "   0.00653007  0.0168515 ]]\n"
          ]
        }
      ],
      "source": [
        "pad_emb = np.zeros((1, embedding_array.shape[1]))   #embedding for '<pad>' token.\n",
        "unk_emb = np.mean(embedding_array, axis=0, keepdims=True)    #embedding for '<unk>' token.\n",
        "print(pad_emb)\n",
        "print(unk_emb)"
      ]
    },
    {
      "cell_type": "code",
      "execution_count": 62,
      "metadata": {
        "colab": {
          "base_uri": "https://localhost:8080/"
        },
        "id": "XzFmMUwNzirX",
        "outputId": "26ae6b1b-2aea-4e1d-cfdf-7d68e2395ee4"
      },
      "outputs": [
        {
          "output_type": "stream",
          "name": "stdout",
          "text": [
            "(400002, 50)\n"
          ]
        }
      ],
      "source": [
        "embedding_array = np.vstack((pad_emb, unk_emb, embedding_array))\n",
        "print(embedding_array.shape)"
      ]
    },
    {
      "cell_type": "markdown",
      "metadata": {
        "id": "whG83Yhmc7xN"
      },
      "source": [
        "Creamos ahora una capa `Embedding` con la matriz de representación de Glove"
      ]
    },
    {
      "cell_type": "code",
      "execution_count": 63,
      "metadata": {
        "colab": {
          "base_uri": "https://localhost:8080/"
        },
        "id": "LWMgXe31c7qN",
        "outputId": "ee0c3e64-4c97-4468-a898-46fdccfc23c9"
      },
      "outputs": [
        {
          "output_type": "execute_result",
          "data": {
            "text/plain": [
              "Embedding(400002, 50)"
            ]
          },
          "metadata": {},
          "execution_count": 63
        }
      ],
      "source": [
        "embedding_glove = nn.Embedding.from_pretrained(torch.from_numpy(embedding_array).float())\n",
        "embedding_glove"
      ]
    },
    {
      "cell_type": "code",
      "source": [
        "embedding_array[2]"
      ],
      "metadata": {
        "colab": {
          "base_uri": "https://localhost:8080/"
        },
        "id": "eCdJUFBIrsK4",
        "outputId": "a64b130f-16eb-4717-f33f-cf8161f459e1"
      },
      "execution_count": 88,
      "outputs": [
        {
          "output_type": "execute_result",
          "data": {
            "text/plain": [
              "array([ 4.1800e-01,  2.4968e-01, -4.1242e-01,  1.2170e-01,  3.4527e-01,\n",
              "       -4.4457e-02, -4.9688e-01, -1.7862e-01, -6.6023e-04, -6.5660e-01,\n",
              "        2.7843e-01, -1.4767e-01, -5.5677e-01,  1.4658e-01, -9.5095e-03,\n",
              "        1.1658e-02,  1.0204e-01, -1.2792e-01, -8.4430e-01, -1.2181e-01,\n",
              "       -1.6801e-02, -3.3279e-01, -1.5520e-01, -2.3131e-01, -1.9181e-01,\n",
              "       -1.8823e+00, -7.6746e-01,  9.9051e-02, -4.2125e-01, -1.9526e-01,\n",
              "        4.0071e+00, -1.8594e-01, -5.2287e-01, -3.1681e-01,  5.9213e-04,\n",
              "        7.4449e-03,  1.7778e-01, -1.5897e-01,  1.2041e-02, -5.4223e-02,\n",
              "       -2.9871e-01, -1.5749e-01, -3.4758e-01, -4.5637e-02, -4.4251e-01,\n",
              "        1.8785e-01,  2.7849e-03, -1.8411e-01, -1.1514e-01, -7.8581e-01])"
            ]
          },
          "metadata": {},
          "execution_count": 88
        }
      ]
    },
    {
      "cell_type": "code",
      "source": [
        "embedding_glove.weight"
      ],
      "metadata": {
        "colab": {
          "base_uri": "https://localhost:8080/"
        },
        "id": "LsWWG8-urt3O",
        "outputId": "bf652a72-2d4d-45d2-dacb-58c6cc45630a"
      },
      "execution_count": 89,
      "outputs": [
        {
          "output_type": "execute_result",
          "data": {
            "text/plain": [
              "Parameter containing:\n",
              "tensor([[ 0.0000,  0.0000,  0.0000,  ...,  0.0000,  0.0000,  0.0000],\n",
              "        [-0.1292, -0.2887, -0.0122,  ...,  0.1007,  0.0065,  0.0169],\n",
              "        [ 0.4180,  0.2497, -0.4124,  ..., -0.1841, -0.1151, -0.7858],\n",
              "        ...,\n",
              "        [-0.5118,  0.0587,  1.0913,  ..., -0.2500, -1.1250,  1.5863],\n",
              "        [-0.7590, -0.4743,  0.4737,  ...,  0.7895, -0.0141,  0.6448],\n",
              "        [ 0.0726, -0.5139,  0.4728,  ..., -0.1891, -0.5902,  0.5556]],\n",
              "       device='cuda:0')"
            ]
          },
          "metadata": {},
          "execution_count": 89
        }
      ]
    },
    {
      "cell_type": "markdown",
      "metadata": {
        "id": "cteNGKnPckWm"
      },
      "source": [
        "Es importante ahora hacer una pausa y remarcar que los tokens considerados en este vocabulario son diferentes a los que previamente tratamos: no hay consideración de emoticones, se incluyen los signos de puntuación, y el número de tokens supera con creces el número de tokens del vocabulario original, por lo que los tokens considerados como desconocidos si podrán tener una semántica definida usando **GloVe**.\n",
        "\n",
        "Necesitaremos entonces volver a recrear el proceso de tokenización de las reviews de IMDb para poder utilizarlo conjuntamente con el `Embedding` de Glove.\n",
        "Esta vez no lo vamos a crear desde cero, sino que vamos a utilizar algunas de las funcionalidades del package `torchtext`.\n",
        "\n",
        "Utilizaremos, por ejemplo, el método `get_tokenizer` permite obtener tokenizadores predefinidos. Recibe el nombre del tokenizer (e.g. `'basic_english'`) y el lenguaje (por defecto inglés - `'EN'`). Se le puede pasar una función externa que se encargue de la tokenización; existen varias librerias de tokenización que se pueden utilizar como `spacy`, `moses`, `toktok`, `revtok`, `subword`."
      ]
    },
    {
      "cell_type": "code",
      "execution_count": 64,
      "metadata": {
        "id": "NPmZTW8KckIn"
      },
      "outputs": [],
      "source": [
        "import torchtext\n",
        "from torchtext.data import get_tokenizer"
      ]
    },
    {
      "cell_type": "code",
      "execution_count": 65,
      "metadata": {
        "id": "jT_SopJBhV3z"
      },
      "outputs": [],
      "source": [
        "tokenizer = get_tokenizer('basic_english')"
      ]
    },
    {
      "cell_type": "code",
      "execution_count": 66,
      "metadata": {
        "colab": {
          "base_uri": "https://localhost:8080/"
        },
        "id": "cg6y1BGDidk5",
        "outputId": "190ba9c0-fe46-4853-bb09-2dd645b3652f"
      },
      "outputs": [
        {
          "output_type": "execute_result",
          "data": {
            "text/plain": [
              "['i', 'don', \"'\", 't', 'want', 'to', 'go', 'to', 'the', 'office', '!']"
            ]
          },
          "metadata": {},
          "execution_count": 66
        }
      ],
      "source": [
        "tokens = tokenizer(\"I don't want to go to the office!\")\n",
        "tokens"
      ]
    },
    {
      "cell_type": "markdown",
      "metadata": {
        "id": "GcJmwdkqhELF"
      },
      "source": [
        "Creamos una instancia de `Vocab` a partir del diccionario que contiene los tokens de **GloVe**."
      ]
    },
    {
      "cell_type": "code",
      "source": [
        "from torchtext import vocab"
      ],
      "metadata": {
        "id": "TeYnmv_F0zJO"
      },
      "execution_count": 67,
      "outputs": []
    },
    {
      "cell_type": "code",
      "source": [
        "vocab_glove = vocab.vocab(vocab_globe_dict)\n",
        "vocab_glove.insert_token(\"<pad>\", 0)\n",
        "vocab_glove.insert_token(\"<unk>\", 1)\n",
        "vocab_glove.set_default_index(1)"
      ],
      "metadata": {
        "id": "f6Af1lYr06kv"
      },
      "execution_count": 68,
      "outputs": []
    },
    {
      "cell_type": "code",
      "source": [
        "len(vocab_glove)"
      ],
      "metadata": {
        "colab": {
          "base_uri": "https://localhost:8080/"
        },
        "id": "5YMpcm1E06bP",
        "outputId": "8414cc79-d284-4594-f124-839504f7b521"
      },
      "execution_count": 69,
      "outputs": [
        {
          "output_type": "execute_result",
          "data": {
            "text/plain": [
              "400002"
            ]
          },
          "metadata": {},
          "execution_count": 69
        }
      ]
    },
    {
      "cell_type": "code",
      "source": [
        "print(f\"<pad>: {vocab_glove['<pad>']}\")\n",
        "print(f\"<unk>: {vocab_glove['<unk>']}\")\n",
        "print(f\"the: {vocab_glove['the']}\")\n",
        "print(f\"of: {vocab_glove['of']}\")\n",
        "print(f\"and: {vocab_glove['and']}\")\n",
        "print(f\"you: {vocab_glove['you']}\")\n",
        "print(f\"adfasdfasf: {vocab_glove['adfasdfasf']}\")"
      ],
      "metadata": {
        "colab": {
          "base_uri": "https://localhost:8080/"
        },
        "id": "hl9b89Fp0yeK",
        "outputId": "2d331a9e-37c0-4bbc-8dd2-c67d5f1ee704"
      },
      "execution_count": 70,
      "outputs": [
        {
          "output_type": "stream",
          "name": "stdout",
          "text": [
            "<pad>: 0\n",
            "<unk>: 1\n",
            "the: 2\n",
            "of: 5\n",
            "and: 7\n",
            "you: 83\n",
            "adfasdfasf: 1\n"
          ]
        }
      ]
    },
    {
      "cell_type": "markdown",
      "source": [
        "Redefinimos los pipelines para crear los `DataLoaders` que vamos a utilizar"
      ],
      "metadata": {
        "id": "Y3tdLh90fPu-"
      }
    },
    {
      "cell_type": "code",
      "source": [
        "text_pipeline = lambda x: [vocab_glove[token] for token in tokenizer(x)]"
      ],
      "metadata": {
        "id": "XdlZYKeGfP3k"
      },
      "execution_count": 71,
      "outputs": []
    },
    {
      "cell_type": "code",
      "execution_count": 72,
      "metadata": {
        "id": "Kikh39N8m01t",
        "colab": {
          "base_uri": "https://localhost:8080/"
        },
        "outputId": "60386e97-e4b7-4c80-e2a7-d33d8791eb89"
      },
      "outputs": [
        {
          "output_type": "execute_result",
          "data": {
            "text/plain": [
              "[22, 17, 355, 6, 255, 79, 5, 194, 2708, 1571, 5, 409, 84, 365]"
            ]
          },
          "metadata": {},
          "execution_count": 72
        }
      ],
      "source": [
        "text_pipeline(\"It was great to see some of my favorite stars of 30 years ago\")"
      ]
    },
    {
      "cell_type": "code",
      "execution_count": 73,
      "metadata": {
        "id": "ITvLqqd3577l"
      },
      "outputs": [],
      "source": [
        "dataloader = DataLoader(train_dataset, batch_size=4, shuffle=False, collate_fn=collate_batch)"
      ]
    },
    {
      "cell_type": "code",
      "execution_count": 74,
      "metadata": {
        "id": "wptmPcyI577m"
      },
      "outputs": [],
      "source": [
        "(text_batch, label_batch, length_batch) = next(iter(dataloader))"
      ]
    },
    {
      "cell_type": "code",
      "source": [
        "print(\"Estructura de un batch\")\n",
        "print(f\"  Secuencias de tokens ({text_batch.shape}): {text_batch}\")\n",
        "print(f\"  Etiquetas ({label_batch.shape}): {label_batch}\")\n",
        "print(f\"  Largos originales ({length_batch.shape}): {length_batch}\")"
      ],
      "metadata": {
        "colab": {
          "base_uri": "https://localhost:8080/"
        },
        "id": "eWFzyMmT5-yE",
        "outputId": "6fa7ed87-8633-41cb-9376-f3b6e4d1a496"
      },
      "execution_count": 75,
      "outputs": [
        {
          "output_type": "stream",
          "name": "stdout",
          "text": [
            "Estructura de un batch\n",
            "  Secuencias de tokens (torch.Size([4, 666])): tensor([[ 3708,    16,   245,  ...,     0,     0,     0],\n",
            "        [14399,     3,   189,  ...,     0,     0,     0],\n",
            "        [   59,     1,     4,  ...,  1167,  1005,     4],\n",
            "        [ 2701,   281, 54892,  ...,     0,     0,     0]], device='cuda:0')\n",
            "  Etiquetas (torch.Size([4])): tensor([0., 0., 1., 0.], device='cuda:0')\n",
            "  Largos originales (torch.Size([4])): tensor([408, 208, 666, 180], device='cuda:0')\n"
          ]
        }
      ]
    },
    {
      "cell_type": "code",
      "execution_count": 76,
      "metadata": {
        "id": "OfUojHRV577m"
      },
      "outputs": [],
      "source": [
        "batch_size = 32\n",
        "train_dl = DataLoader(train_dataset, batch_size=batch_size, shuffle=True, collate_fn=collate_batch)\n",
        "val_dl = DataLoader(val_dataset, batch_size=batch_size, shuffle=False, collate_fn=collate_batch)\n",
        "test_dl = DataLoader(test_dataset, batch_size=batch_size, shuffle=False, collate_fn=collate_batch)"
      ]
    },
    {
      "cell_type": "markdown",
      "metadata": {
        "id": "jzyJGNyy7aFy"
      },
      "source": [
        "Creamos un modelo bidireccional y lo entrenamos."
      ]
    },
    {
      "cell_type": "code",
      "source": [
        "class SentimentAnalysisModelBidirectional_GloVe(nn.Module):\n",
        "    def __init__(self, vocab_size, rnn_hidden_size, fc_hidden_size):\n",
        "        super().__init__()\n",
        "        embed_dim = 50\n",
        "        self.embedding = embedding_glove\n",
        "        self.rnn = nn.LSTM(embed_dim, rnn_hidden_size, \n",
        "                           batch_first=True, bidirectional=True)\n",
        "        self.fc1 = nn.Linear(rnn_hidden_size*2, fc_hidden_size)\n",
        "        self.relu = nn.ReLU()\n",
        "        self.fc2 = nn.Linear(fc_hidden_size, 1)\n",
        "        self.sigmoid = nn.Sigmoid()\n",
        "\n",
        "    def forward(self, text, lengths):\n",
        "        out = self.embedding(text)\n",
        "        out = nn.utils.rnn.pack_padded_sequence(out, lengths.cpu().numpy(), enforce_sorted=False, batch_first=True)\n",
        "\n",
        "        _, (hidden, cell) = self.rnn(out)\n",
        "        out = torch.cat((hidden[-2, :, :], hidden[-1, :, :]), dim=1)\n",
        "\n",
        "        out = self.fc1(out)\n",
        "        out = self.relu(out)\n",
        "        out = self.fc2(out)\n",
        "        out = self.sigmoid(out)\n",
        "        return out"
      ],
      "metadata": {
        "id": "09aQDGNR8BiL"
      },
      "execution_count": 77,
      "outputs": []
    },
    {
      "cell_type": "code",
      "source": [
        "torch.manual_seed(1)\n",
        "modelo_bi_glove = SentimentAnalysisModelBidirectional_GloVe(vocab_size, rnn_hidden_size, fc_hidden_size) \n",
        "modelo_bi_glove = modelo_bi_glove.to(DEVICE)"
      ],
      "metadata": {
        "id": "8VqZe_na7oij"
      },
      "execution_count": 79,
      "outputs": []
    },
    {
      "cell_type": "code",
      "source": [
        "modelo_bi_glove.embedding"
      ],
      "metadata": {
        "colab": {
          "base_uri": "https://localhost:8080/"
        },
        "id": "RtrOPBcv7oab",
        "outputId": "4d0bc52f-ed08-48ac-a31d-dd184f0472ef"
      },
      "execution_count": 80,
      "outputs": [
        {
          "output_type": "execute_result",
          "data": {
            "text/plain": [
              "Embedding(400002, 50)"
            ]
          },
          "metadata": {},
          "execution_count": 80
        }
      ]
    },
    {
      "cell_type": "code",
      "execution_count": 81,
      "metadata": {
        "colab": {
          "base_uri": "https://localhost:8080/"
        },
        "outputId": "c79a9c4c-e77c-47b6-f957-a0c70628ba32",
        "id": "_e24HCP67aFy"
      },
      "outputs": [
        {
          "output_type": "stream",
          "name": "stdout",
          "text": [
            "0:  loss: 0.600690, accuracy: 0.667720, val loss: 0.533047, val accuracy: 0.746600 -- time: 107.57\n",
            "Se mejoró el loss de inf a 0.5330473747253418\n",
            "1:  loss: 0.472423, accuracy: 0.777160, val loss: 0.417725, val accuracy: 0.810000 -- time: 106.40\n",
            "Se mejoró el loss de 0.5330473747253418 a 0.41772486009597776\n",
            "2:  loss: 0.371728, accuracy: 0.831600, val loss: 0.380391, val accuracy: 0.828000 -- time: 106.84\n",
            "Se mejoró el loss de 0.41772486009597776 a 0.3803913964748383\n",
            "3:  loss: 0.340526, accuracy: 0.851680, val loss: 0.334386, val accuracy: 0.851200 -- time: 106.36\n",
            "Se mejoró el loss de 0.3803913964748383 a 0.3343859308242798\n",
            "4:  loss: 0.314430, accuracy: 0.866360, val loss: 0.331550, val accuracy: 0.852800 -- time: 105.53\n",
            "Se mejoró el loss de 0.3343859308242798 a 0.33155013890266416\n",
            "5:  loss: 0.292023, accuracy: 0.876160, val loss: 0.316566, val accuracy: 0.861400 -- time: 105.43\n",
            "Se mejoró el loss de 0.33155013890266416 a 0.3165660458087921\n",
            "6:  loss: 0.272394, accuracy: 0.884280, val loss: 0.307337, val accuracy: 0.865000 -- time: 109.27\n",
            "Se mejoró el loss de 0.3165660458087921 a 0.30733654539585115\n",
            "7:  loss: 0.254023, accuracy: 0.894320, val loss: 0.326259, val accuracy: 0.864200 -- time: 106.63\n",
            "8:  loss: 0.237430, accuracy: 0.901840, val loss: 0.290828, val accuracy: 0.880600 -- time: 105.55\n",
            "Se mejoró el loss de 0.30733654539585115 a 0.29082795543670653\n",
            "9:  loss: 0.217012, accuracy: 0.912880, val loss: 0.325484, val accuracy: 0.866200 -- time: 105.94\n",
            "10:  loss: 0.196171, accuracy: 0.921560, val loss: 0.305283, val accuracy: 0.876600 -- time: 105.22\n",
            "11:  loss: 0.176064, accuracy: 0.930000, val loss: 0.322855, val accuracy: 0.878400 -- time: 104.90\n",
            "12:  loss: 0.155591, accuracy: 0.940240, val loss: 0.333638, val accuracy: 0.870400 -- time: 106.44\n",
            "13:  loss: 0.131100, accuracy: 0.950640, val loss: 0.402558, val accuracy: 0.865200 -- time: 104.76\n",
            "14:  loss: 0.113556, accuracy: 0.957320, val loss: 0.406225, val accuracy: 0.873000 -- time: 104.88\n",
            "----- Se sobrepasó el patience del val loss del early stopping 6)\n"
          ]
        }
      ],
      "source": [
        "modelo_bi_glove, train_losses, train_accuracies, val_losses, val_accuracies = \\\n",
        "    train_model_sentiment(modelo_bi_glove, train_dl, val_dl, learning_rate=1e-3, epocas=15, early_stopping_loss_val_patience=5, verbose=True)"
      ]
    },
    {
      "cell_type": "code",
      "execution_count": null,
      "metadata": {
        "colab": {
          "base_uri": "https://localhost:8080/",
          "height": 404
        },
        "outputId": "9c5b8b8a-3215-48ab-e603-62b55f8e4a20",
        "id": "IsAbmMIZ7aFz"
      },
      "outputs": [
        {
          "data": {
            "image/png": "[encoded data removed]",
            "text/plain": [
              "<Figure size 1080x432 with 2 Axes>"
            ]
          },
          "metadata": {},
          "output_type": "display_data"
        }
      ],
      "source": [
        "plot_losses_and_accuracies(train_losses, train_accuracies, val_losses, val_accuracies)"
      ]
    },
    {
      "cell_type": "code",
      "execution_count": 83,
      "metadata": {
        "colab": {
          "base_uri": "https://localhost:8080/"
        },
        "outputId": "156de333-8ca9-441e-f8dd-da4b9efbc75a",
        "id": "G-AJreAX7aFz"
      },
      "outputs": [
        {
          "output_type": "stream",
          "name": "stderr",
          "text": [
            "/usr/local/lib/python3.8/dist-packages/torch/nn/modules/rnn.py:777: UserWarning: RNN module weights are not part of single contiguous chunk of memory. This means they need to be compacted at every call, possibly greatly increasing memory usage. To compact weights again call flatten_parameters(). (Triggered internally at ../aten/src/ATen/native/cudnn/RNN.cpp:968.)\n",
            "  result = _VF.lstm(input, batch_sizes, hx, self._flat_weights, self.bias,\n"
          ]
        },
        {
          "output_type": "stream",
          "name": "stdout",
          "text": [
            "El loss de test es 0.2902194746494293, y el accuracy de test es de 0.881. \n"
          ]
        }
      ],
      "source": [
        "test_loss, test_acc = eval_model(modelo_bi_glove, test_dl)\n",
        "print(f\"El loss de test es {test_loss}, y el accuracy de test es de {test_acc:.3f}. \")\n",
        "torch.save(modelo, \"imdb_sentiment_analysis_bi_glove.pth\")"
      ]
    },
    {
      "cell_type": "markdown",
      "metadata": {
        "id": "C161Ix8_7aFz"
      },
      "source": [
        "Con el modelo no bidireccional, el loss de test era de 0.336 y el accuracy de 86.3%.\n",
        "\n",
        "Con el modelo bidireccional mejoramos la calidad de las predicciones solo un poco, reduciendo el loss a 0.326 y aumentando el accuracy a 87.6%.\n",
        "\n",
        "Con el modelo bidireccional con embeddings pre entrenados mejoramos la calidad \n",
        "reducimos el loss a 0.29 y aumentando el accuracy a 88.1%."
      ]
    }
  ],
  "metadata": {
    "accelerator": "GPU",
    "colab": {
      "collapsed_sections": [
        "in2Ap3W_mjb5",
        "D91SBl3aUc5O",
        "js_6BAkd6V_F"
      ],
      "provenance": []
    },
    "gpuClass": "standard",
    "kernelspec": {
      "display_name": "Python 3 (ipykernel)",
      "language": "python",
      "name": "python3"
    },
    "language_info": {
      "codemirror_mode": {
        "name": "ipython",
        "version": 3
      },
      "file_extension": ".py",
      "mimetype": "text/x-python",
      "name": "python",
      "nbconvert_exporter": "python",
      "pygments_lexer": "ipython3",
      "version": "3.9.13"
    }
  },
  "nbformat": 4,
  "nbformat_minor": 0
}