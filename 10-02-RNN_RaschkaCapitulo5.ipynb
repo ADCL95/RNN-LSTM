{
  "nbformat": 4,
  "nbformat_minor": 0,
  "metadata": {
    "colab": {
      "provenance": []
    },
    "kernelspec": {
      "name": "python3",
      "display_name": "Python 3"
    },
    "language_info": {
      "name": "python"
    }
  },
  "cells": [
    {
      "cell_type": "code",
      "execution_count": null,
      "metadata": {
        "id": "zR3Vib7hkLkC"
      },
      "outputs": [],
      "source": [
        "import torch\n",
        "import torch.nn as nn"
      ]
    },
    {
      "cell_type": "code",
      "source": [
        "torch.manual_seed(1)\n",
        "rnn_layer = nn.RNN(input_size=5, hidden_size=2, num_layers=1, batch_first=True)"
      ],
      "metadata": {
        "id": "ufiaTOV4ka2b"
      },
      "execution_count": null,
      "outputs": []
    },
    {
      "cell_type": "code",
      "source": [
        "w_xh = rnn_layer.weight_ih_l0\n",
        "w_hh = rnn_layer.weight_hh_l0\n",
        "b_xh = rnn_layer.bias_ih_l0\n",
        "b_hh = rnn_layer.bias_hh_l0\n",
        "print('W_xh shape:', w_xh.shape)\n",
        "print('W_hh shape:', w_hh.shape)\n",
        "print('b_xh shape:', b_xh.shape)\n",
        "print('b_hh shape:', b_hh.shape)"
      ],
      "metadata": {
        "colab": {
          "base_uri": "https://localhost:8080/"
        },
        "id": "NhJjprp8kSNJ",
        "outputId": "8d8d0f15-6590-4528-8197-1d0fca58f776"
      },
      "execution_count": null,
      "outputs": [
        {
          "output_type": "stream",
          "name": "stdout",
          "text": [
            "W_xh shape: torch.Size([2, 5])\n",
            "W_hh shape: torch.Size([2, 2])\n",
            "b_xh shape: torch.Size([2])\n",
            "b_hh shape: torch.Size([2])\n"
          ]
        }
      ]
    },
    {
      "cell_type": "markdown",
      "source": [
        "Creamos una secuencia de largo 5, con los datos de 3 features (e.g. temperatura, presión, precipitación). Esta secuencia es una única instancia."
      ],
      "metadata": {
        "id": "-ifAgnN_mBMz"
      }
    },
    {
      "cell_type": "code",
      "source": [
        "## secuencia de entrada de 3 features, de largo 5\n",
        "x_seq = torch.tensor([[1.0]*5, [2.0]*5, [3.0]*5]).float()\n",
        "print(x_seq)\n",
        "print(x_seq.shape)"
      ],
      "metadata": {
        "colab": {
          "base_uri": "https://localhost:8080/"
        },
        "id": "NuP2TCpdkj2B",
        "outputId": "23f2ad45-8bad-4513-a257-532e3c6708ea"
      },
      "execution_count": null,
      "outputs": [
        {
          "output_type": "stream",
          "name": "stdout",
          "text": [
            "tensor([[1., 1., 1., 1., 1.],\n",
            "        [2., 2., 2., 2., 2.],\n",
            "        [3., 3., 3., 3., 3.]])\n",
            "torch.Size([3, 5])\n"
          ]
        }
      ]
    },
    {
      "cell_type": "markdown",
      "source": [
        "Necesitamos crear el eje del batch que espera toda capa."
      ],
      "metadata": {
        "id": "D8sentCsmMMV"
      }
    },
    {
      "cell_type": "code",
      "source": [
        "torch.reshape(x_seq, (1, 3, 5))"
      ],
      "metadata": {
        "colab": {
          "base_uri": "https://localhost:8080/"
        },
        "id": "ab8YtRSWl7km",
        "outputId": "0552bd8e-b213-42d9-9c63-d6ff78d4aeb5"
      },
      "execution_count": null,
      "outputs": [
        {
          "output_type": "execute_result",
          "data": {
            "text/plain": [
              "tensor([[[1., 1., 1., 1., 1.],\n",
              "         [2., 2., 2., 2., 2.],\n",
              "         [3., 3., 3., 3., 3.]]])"
            ]
          },
          "metadata": {},
          "execution_count": 5
        }
      ]
    },
    {
      "cell_type": "code",
      "source": [
        "## output of the simple RNN:\n",
        "output, hn = rnn_layer(torch.reshape(x_seq, (1, 3, 5)))\n",
        "print(output)\n",
        "print(output.shape)\n",
        "print(hn)\n",
        "print(hn.shape)"
      ],
      "metadata": {
        "colab": {
          "base_uri": "https://localhost:8080/"
        },
        "id": "c1-YbES_kw5E",
        "outputId": "c75313b0-bdd4-45b0-8f8e-4e8f372182be"
      },
      "execution_count": null,
      "outputs": [
        {
          "output_type": "stream",
          "name": "stdout",
          "text": [
            "tensor([[[-0.3520,  0.5253],\n",
            "         [-0.6842,  0.7607],\n",
            "         [-0.8649,  0.9047]]], grad_fn=<TransposeBackward1>)\n",
            "torch.Size([1, 3, 2])\n",
            "tensor([[[-0.8649,  0.9047]]], grad_fn=<StackBackward0>)\n",
            "torch.Size([1, 1, 2])\n"
          ]
        }
      ]
    },
    {
      "cell_type": "markdown",
      "source": [
        "El procesamiento del batch (de 1 única instancia) produce dos tensores:\n",
        "- un tensor de salidas: La única capa recurrente tiene dos neuronas, la secuencia tiene un largo de 3 pasos. El tensor de salida incluira la secuencia de los outputs progresivos de los 3 pasos. Es por eso que tiene una organización [batch=1, pasos=3, neuronas=2]\n",
        "- un tensor de estados escondidos, con el último valor de salida de la celda, pero con el mismo rango."
      ],
      "metadata": {
        "id": "GiEQ2eoll4fE"
      }
    },
    {
      "cell_type": "markdown",
      "source": [
        "Podemos hacer el proceso a pie.\n",
        "Veamoslo para el primer paso de tiempo."
      ],
      "metadata": {
        "id": "PmMVoHQmkz50"
      }
    },
    {
      "cell_type": "code",
      "source": [
        "paso=0\n",
        "\n",
        "# input del primer paso\n",
        "xt = torch.reshape(x_seq[0], (1, 5))\n",
        "print(\"input:\\n\", xt)\n",
        "# matriz de pesos Wxh y vector de sesgos b_xh\n",
        "print(\"matriz Wxh:\\n\", w_xh)\n",
        "print(\"matriz Wxh transpuesta:\\n\", torch.transpose(w_xh, 0, 1))\n",
        "print(\"sesgos bxh:\\n\",b_hh)\n",
        "# ht combinación lineal: x*Wxh + bhh\n",
        "ht = torch.matmul(xt, torch.transpose(w_xh, 0, 1)) + b_xh\n",
        "print(\"\\ncomb lineal x*Wxh + bhh:\\n\", ht)\n",
        "# estado previo en ceros\n",
        "prev_h = torch.zeros((ht.shape))\n",
        "print(\"\\nht-1:\\n\", prev_h)\n",
        "# salida\n",
        "ot = ht + torch.matmul(prev_h, torch.transpose(w_hh, 0, 1)) + b_hh\n",
        "print(\"\\nsalida combinación lineal:\\n\", ot)\n",
        "ot = torch.tanh(ot)\n",
        "print(\"salida:\\n\", ot)\n"
      ],
      "metadata": {
        "colab": {
          "base_uri": "https://localhost:8080/"
        },
        "id": "6LYIRQ7lskHJ",
        "outputId": "6b6cc7e7-60ba-40c9-ee99-a16f38228222"
      },
      "execution_count": null,
      "outputs": [
        {
          "output_type": "stream",
          "name": "stdout",
          "text": [
            "input:\n",
            " tensor([[1., 1., 1., 1., 1.]])\n",
            "matriz Wxh:\n",
            " Parameter containing:\n",
            "tensor([[ 0.3643, -0.3121, -0.1371,  0.3319, -0.6657],\n",
            "        [ 0.4241, -0.1455,  0.3597,  0.0983, -0.0866]], requires_grad=True)\n",
            "matriz Wxh transpuesta:\n",
            " tensor([[ 0.3643,  0.4241],\n",
            "        [-0.3121, -0.1455],\n",
            "        [-0.1371,  0.3597],\n",
            "        [ 0.3319,  0.0983],\n",
            "        [-0.6657, -0.0866]], grad_fn=<TransposeBackward0>)\n",
            "sesgos bxh:\n",
            " Parameter containing:\n",
            "tensor([ 0.1025, -0.0028], requires_grad=True)\n",
            "\n",
            "comb lineal x*Wxh + bhh:\n",
            " tensor([[-0.4702,  0.5864]], grad_fn=<AddBackward0>)\n",
            "\n",
            "ht-1:\n",
            " tensor([[0., 0.]])\n",
            "\n",
            "salida combinación lineal:\n",
            " tensor([[-0.3677,  0.5836]], grad_fn=<AddBackward0>)\n",
            "salida:\n",
            " tensor([[-0.3520,  0.5253]], grad_fn=<TanhBackward0>)\n"
          ]
        }
      ]
    },
    {
      "cell_type": "markdown",
      "source": [
        "Vamos a hacerlo para la secuencia de 3 pasos:"
      ],
      "metadata": {
        "id": "2-2CuJedzLLz"
      }
    },
    {
      "cell_type": "code",
      "source": [
        "## manually computing the output:\n",
        "out_man = []\n",
        "for t in range(3):\n",
        "    xt = torch.reshape(x_seq[t], (1, 5))\n",
        "    print(f'Time step {t} =>')\n",
        "    print(' Input :', xt.numpy())\n",
        "\n",
        "    ht = torch.matmul(xt, torch.transpose(w_xh, 0, 1)) + b_xh\n",
        "    print(' Hidden :', ht.detach().numpy())\n",
        "\n",
        "    if t > 0:\n",
        "        prev_h = out_man[t-1]\n",
        "    else:\n",
        "        prev_h = torch.zeros((ht.shape))\n",
        "\n",
        "    ot = ht + torch.matmul(prev_h, torch.transpose(w_hh, 0, 1)) + b_hh\n",
        "    ot = torch.tanh(ot)\n",
        "    out_man.append(ot)\n",
        "    print(' Output (manual) :', ot.detach().numpy())\n",
        "    print(' RNN output :', output[:, t].detach().numpy())\n",
        "    print()"
      ],
      "metadata": {
        "colab": {
          "base_uri": "https://localhost:8080/"
        },
        "id": "HaegM7kmkqOw",
        "outputId": "493398bd-9f6f-445e-a367-bfc8555334b0"
      },
      "execution_count": null,
      "outputs": [
        {
          "output_type": "stream",
          "name": "stdout",
          "text": [
            "Time step 0 =>\n",
            " Input : [[1. 1. 1. 1. 1.]]\n",
            " Hidden : [[-0.4701929   0.58639044]]\n",
            " Output (manual) : [[-0.3519801   0.52525216]]\n",
            " RNN output : [[-0.3519801   0.52525216]]\n",
            "\n",
            "Time step 1 =>\n",
            " Input : [[2. 2. 2. 2. 2.]]\n",
            " Hidden : [[-0.88883156  1.2364398 ]]\n",
            " Output (manual) : [[-0.68424344  0.76074266]]\n",
            " RNN output : [[-0.68424344  0.76074266]]\n",
            "\n",
            "Time step 2 =>\n",
            " Input : [[3. 3. 3. 3. 3.]]\n",
            " Hidden : [[-1.3074702  1.8864892]]\n",
            " Output (manual) : [[-0.8649416  0.9046636]]\n",
            " RNN output : [[-0.8649416  0.9046636]]\n",
            "\n"
          ]
        }
      ]
    },
    {
      "cell_type": "code",
      "source": [],
      "metadata": {
        "id": "MuJ_8o9Ikd4P"
      },
      "execution_count": null,
      "outputs": []
    }
  ]
}